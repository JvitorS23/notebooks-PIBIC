{
  "nbformat": 4,
  "nbformat_minor": 0,
  "metadata": {
    "colab": {
      "name": "kdRNN.ipynb",
      "provenance": [],
      "collapsed_sections": [],
      "toc_visible": true,
      "authorship_tag": "ABX9TyP4VmCEs3eFuaaQf7204RaV",
      "include_colab_link": true
    },
    "kernelspec": {
      "name": "python3",
      "display_name": "Python 3"
    },
    "accelerator": "GPU"
  },
  "cells": [
    {
      "cell_type": "markdown",
      "metadata": {
        "id": "view-in-github",
        "colab_type": "text"
      },
      "source": [
        "<a href=\"https://colab.research.google.com/github/JvitorS23/notebooks-PIBIC/blob/master/kdRNN.ipynb\" target=\"_parent\"><img src=\"https://colab.research.google.com/assets/colab-badge.svg\" alt=\"Open In Colab\"/></a>"
      ]
    },
    {
      "cell_type": "markdown",
      "metadata": {
        "id": "Sll8hexEN6gz",
        "colab_type": "text"
      },
      "source": [
        "# Imports e seed\n"
      ]
    },
    {
      "cell_type": "code",
      "metadata": {
        "id": "5lng-o5bN5Ns",
        "colab_type": "code",
        "colab": {}
      },
      "source": [
        "import os.path\n",
        "from scipy.io import arff\n",
        "import pandas as pd\n",
        "from random import randint\n",
        "import requests\n",
        "import numpy as np\n",
        "import matplotlib.pyplot as plt\n",
        "from sklearn import preprocessing\n",
        "from sklearn.model_selection import StratifiedShuffleSplit\n",
        "import torch\n",
        "from torch.utils.data import Dataset,DataLoader\n",
        "import torch.optim as optim\n",
        "from torch.optim.lr_scheduler import ReduceLROnPlateau\n",
        "from torch.utils.data.sampler import SubsetRandomSampler\n",
        "import torch.nn.functional as F\n",
        "import torch.nn as nn\n",
        "import time\n",
        "import random\n",
        "from scipy.signal import resample\n",
        "seed =23\n",
        "random.seed(seed)"
      ],
      "execution_count": 0,
      "outputs": []
    },
    {
      "cell_type": "markdown",
      "metadata": {
        "id": "M4mMONPEN_Zg",
        "colab_type": "text"
      },
      "source": [
        "# Download dos dados\n"
      ]
    },
    {
      "cell_type": "code",
      "metadata": {
        "id": "XxhkEuyzPVvK",
        "colab_type": "code",
        "colab": {}
      },
      "source": [
        "!rm -rf /content/heartbeat_dataset"
      ],
      "execution_count": 0,
      "outputs": []
    },
    {
      "cell_type": "code",
      "metadata": {
        "id": "t2czFeZROJ9s",
        "colab_type": "code",
        "outputId": "cf95d375-d919-4dfa-bffa-7df029b38b0c",
        "colab": {
          "base_uri": "https://localhost:8080/",
          "height": 487
        }
      },
      "source": [
        "!mkdir heartbeat_dataset\n",
        "!wget -P  /content/heartbeat_dataset https://www.dropbox.com/s/nxclm1me16kmik7/heartbeat_dataset.zip\n",
        "!unzip -d /content/heartbeat_dataset /content/heartbeat_dataset/heartbeat_dataset.zip"
      ],
      "execution_count": 3,
      "outputs": [
        {
          "output_type": "stream",
          "text": [
            "--2020-02-20 00:36:40--  https://www.dropbox.com/s/nxclm1me16kmik7/heartbeat_dataset.zip\n",
            "Resolving www.dropbox.com (www.dropbox.com)... 162.125.65.1, 2620:100:6021:1::a27d:4101\n",
            "Connecting to www.dropbox.com (www.dropbox.com)|162.125.65.1|:443... connected.\n",
            "HTTP request sent, awaiting response... 301 Moved Permanently\n",
            "Location: /s/raw/nxclm1me16kmik7/heartbeat_dataset.zip [following]\n",
            "--2020-02-20 00:36:40--  https://www.dropbox.com/s/raw/nxclm1me16kmik7/heartbeat_dataset.zip\n",
            "Reusing existing connection to www.dropbox.com:443.\n",
            "HTTP request sent, awaiting response... 302 Found\n",
            "Location: https://uc7855e784aac8ad52a8cd317986.dl.dropboxusercontent.com/cd/0/inline/AyYJaJpHu2uXryAgwIReo-thnNb0SEM9GTeuhge1oRRMYT7fL6YgEKEClc-dDu1CqdzWqaLThoyjzB6MjSBbT9bWVHDrYuJ43lYF-RgrWsWJdf-zTNQPA3gVM5AHydqhS2A/file# [following]\n",
            "--2020-02-20 00:36:40--  https://uc7855e784aac8ad52a8cd317986.dl.dropboxusercontent.com/cd/0/inline/AyYJaJpHu2uXryAgwIReo-thnNb0SEM9GTeuhge1oRRMYT7fL6YgEKEClc-dDu1CqdzWqaLThoyjzB6MjSBbT9bWVHDrYuJ43lYF-RgrWsWJdf-zTNQPA3gVM5AHydqhS2A/file\n",
            "Resolving uc7855e784aac8ad52a8cd317986.dl.dropboxusercontent.com (uc7855e784aac8ad52a8cd317986.dl.dropboxusercontent.com)... 162.125.65.6, 2620:100:6021:6::a27d:4106\n",
            "Connecting to uc7855e784aac8ad52a8cd317986.dl.dropboxusercontent.com (uc7855e784aac8ad52a8cd317986.dl.dropboxusercontent.com)|162.125.65.6|:443... connected.\n",
            "HTTP request sent, awaiting response... 302 FOUND\n",
            "Location: /cd/0/inline2/AyYyX7exQZNbHuMfx--P8eX0RKbynibDADnKHoB1zORtciXZnlYz7AhjYsXu26ra91PbrLbcTWj7g5K1B2moNA9lYxeFEohIS8b8K-xdOjUUYVVHEgAuVYy2nrQTU00DmvfKzKkMF1B2SFBGsJYOakcH0i-h9BKZg_hqEac4OzeugQOtS_Eig4P5PTZxU2ixBZT8FKCBCG70Ieg3OfYSHTfEAxcRs143g6S6ehAqyzxKciSMvPU9c2roNzJaKtVQZY3vzSujZPoe1PKRrC3u9IG3FvaCxYYh0DjkdNFdQ-j5a-h7Xv4B717_txpjXpbwrT1GSnOuyr4-8_P_g8uiT4KejUccLkYMX124pFiNo2yipA/file [following]\n",
            "--2020-02-20 00:36:41--  https://uc7855e784aac8ad52a8cd317986.dl.dropboxusercontent.com/cd/0/inline2/AyYyX7exQZNbHuMfx--P8eX0RKbynibDADnKHoB1zORtciXZnlYz7AhjYsXu26ra91PbrLbcTWj7g5K1B2moNA9lYxeFEohIS8b8K-xdOjUUYVVHEgAuVYy2nrQTU00DmvfKzKkMF1B2SFBGsJYOakcH0i-h9BKZg_hqEac4OzeugQOtS_Eig4P5PTZxU2ixBZT8FKCBCG70Ieg3OfYSHTfEAxcRs143g6S6ehAqyzxKciSMvPU9c2roNzJaKtVQZY3vzSujZPoe1PKRrC3u9IG3FvaCxYYh0DjkdNFdQ-j5a-h7Xv4B717_txpjXpbwrT1GSnOuyr4-8_P_g8uiT4KejUccLkYMX124pFiNo2yipA/file\n",
            "Reusing existing connection to uc7855e784aac8ad52a8cd317986.dl.dropboxusercontent.com:443.\n",
            "HTTP request sent, awaiting response... 200 OK\n",
            "Length: 86457890 (82M) [application/zip]\n",
            "Saving to: ‘/content/heartbeat_dataset/heartbeat_dataset.zip’\n",
            "\n",
            "heartbeat_dataset.z 100%[===================>]  82.45M  12.1MB/s    in 8.2s    \n",
            "\n",
            "2020-02-20 00:36:50 (10.0 MB/s) - ‘/content/heartbeat_dataset/heartbeat_dataset.zip’ saved [86457890/86457890]\n",
            "\n",
            "Archive:  /content/heartbeat_dataset/heartbeat_dataset.zip\n",
            "  inflating: /content/heartbeat_dataset/mitbih_test.csv  \n",
            "  inflating: /content/heartbeat_dataset/mitbih_train.csv  \n"
          ],
          "name": "stdout"
        }
      ]
    },
    {
      "cell_type": "markdown",
      "metadata": {
        "id": "bdJce4I2QAkJ",
        "colab_type": "text"
      },
      "source": [
        "# Tratamento dos Dados\n"
      ]
    },
    {
      "cell_type": "code",
      "metadata": {
        "id": "Aufg8TkcQFXJ",
        "colab_type": "code",
        "outputId": "e9660f8f-22de-4082-c62b-606208645f0e",
        "colab": {
          "base_uri": "https://localhost:8080/",
          "height": 124
        }
      },
      "source": [
        "df = pd.read_csv(\"/content/heartbeat_dataset/mitbih_train.csv\", header=None)\n",
        "df[187].value_counts()\n"
      ],
      "execution_count": 0,
      "outputs": [
        {
          "output_type": "execute_result",
          "data": {
            "text/plain": [
              "0.0    72471\n",
              "4.0     6431\n",
              "2.0     5788\n",
              "1.0     2223\n",
              "3.0      641\n",
              "Name: 187, dtype: int64"
            ]
          },
          "metadata": {
            "tags": []
          },
          "execution_count": 152
        }
      ]
    },
    {
      "cell_type": "code",
      "metadata": {
        "id": "XhgiO9xiTacg",
        "colab_type": "code",
        "colab": {}
      },
      "source": [
        "M = df.values\n",
        "X = M[:, :-1]\n",
        "y = M[:, -1].astype(int)\n"
      ],
      "execution_count": 0,
      "outputs": []
    },
    {
      "cell_type": "code",
      "metadata": {
        "id": "gqjaTIEXS4M7",
        "colab_type": "code",
        "colab": {}
      },
      "source": [
        "C0 = np.argwhere(y == 0).flatten()\n",
        "C1 = np.argwhere(y == 1).flatten()\n",
        "C2 = np.argwhere(y == 2).flatten()\n",
        "C3 = np.argwhere(y == 3).flatten()\n",
        "C4 = np.argwhere(y == 4).flatten()\n"
      ],
      "execution_count": 0,
      "outputs": []
    },
    {
      "cell_type": "code",
      "metadata": {
        "id": "2Y15PTL_TWhR",
        "colab_type": "code",
        "outputId": "c74f6394-f299-420b-8a07-2bfef12f042f",
        "colab": {
          "base_uri": "https://localhost:8080/",
          "height": 523
        }
      },
      "source": [
        "x = np.arange(0, 187)\n",
        "plt.figure(figsize=(15,8))\n",
        "plt.plot(x, X[C0, :][0], label=\"Cat. N\")\n",
        "plt.plot(x, X[C1, :][0], label=\"Cat. S\")\n",
        "plt.plot(x, X[C2, :][0], label=\"Cat. V\")\n",
        "plt.plot(x, X[C3, :][0], label=\"Cat. F\")\n",
        "plt.plot(x, X[C4, :][0], label=\"Cat. Q\")\n",
        "plt.legend()\n",
        "plt.title(\"ECG Heartbeat\", fontsize=20)\n",
        "plt.ylabel(\"Amplitude\", fontsize=15)\n",
        "plt.xlabel(\"Time (ms)\", fontsize=15)\n",
        "plt.show()"
      ],
      "execution_count": 0,
      "outputs": [
        {
          "output_type": "display_data",
          "data": {
            "image/png": "[encoded data removed]",
            "text/plain": [
              "<Figure size 1080x576 with 1 Axes>"
            ]
          },
          "metadata": {
            "tags": []
          }
        }
      ]
    },
    {
      "cell_type": "code",
      "metadata": {
        "id": "t6FqBP7sevT6",
        "colab_type": "code",
        "colab": {}
      },
      "source": [
        "def ecg_data():\n",
        "  #read the data\n",
        "  df = pd.read_csv(\"/content/heartbeat_dataset/mitbih_train.csv\", header=None)\n",
        "  df2 = pd.read_csv(\"/content/heartbeat_dataset/mitbih_test.csv\", header=None)\n",
        "  df = pd.concat([df, df2], axis=0)\n",
        "\n",
        "  # define data samples\n",
        "  X = df.iloc[0:,0:187].values\n",
        "\n",
        "  # standardize data\n",
        "  min_max_scaler = preprocessing.MinMaxScaler()\n",
        "  X_short = min_max_scaler.fit_transform(X)\n",
        "\n",
        "  # define target\n",
        "  y_short = df.iloc[0:,187].values.astype(int)\n",
        "\n",
        "  # define model parameters\n",
        "  samples = X_short.shape[0] # how many trials of eeg data\n",
        "  n_features = X_short.shape[1] # how many channels of eeg in each sample\n",
        "  time_steps = 1 # how many ms was each sample run for\n",
        "\n",
        "  # use stratshufflesplit to get indices for test and training data\n",
        "  sss = StratifiedShuffleSplit(n_splits=2, test_size=0.2, random_state=seed)\n",
        "  sss.get_n_splits(X_short, y_short)\n",
        "\n",
        "  # take the indices generated by stratified shuffle split and make the test and training datasets\n",
        "  for train_index, test_index in sss.split(X_short, y_short):\n",
        "    X_train, X_test = X_short[train_index], X_short[test_index]\n",
        "    y_train, y_test = y_short[train_index], y_short[test_index]\n",
        "\n",
        "  X_train = X_train.reshape(X_train.shape[0], time_steps, X_train.shape[1])\n",
        "  y_train = y_train.reshape(y_train.shape[0], time_steps)\n",
        "  X_test = X_test.reshape(X_test.shape[0], time_steps, X_test.shape[1])\n",
        "  y_test = y_test.reshape(y_test.shape[0], time_steps)    \n",
        "\n",
        "  return X_train, y_train, X_test, y_test, time_steps, n_features\n",
        "\n",
        "class ECG_dataset(Dataset):\n",
        "    def __init__(self,data,labels):\n",
        "        self.data = data\n",
        "        self.labels = labels\n",
        "\n",
        "    def __len__(self):\n",
        "        return len(self.data)\n",
        "\n",
        "    def __getitem__(self,idx):\n",
        "        return self.data[idx],self.labels[idx]\n",
        "\n",
        "def prepararDados():\n",
        "  #Download e preparação dos dados\n",
        "  x_train, y_train, x_test, y_test, time_steps, n_features = ecg_data()\n",
        "    \n",
        "  train_data = torch.from_numpy(x_train).type(torch.Tensor)\n",
        "  test_data = torch.from_numpy(x_test).type(torch.Tensor)\n",
        "  train_labels = torch.from_numpy(y_train).type(torch.LongTensor).view(-1)\n",
        "  test_labels = torch.from_numpy(y_test).type(torch.LongTensor).view(-1)\n",
        "\n",
        "  #Cria o Dataset a partir dos dados\n",
        "  train_set = ECG_dataset(train_data, train_labels)\n",
        "  valid_set = ECG_dataset(train_data, train_labels)\n",
        "  test_set = ECG_dataset(test_data, test_labels)\n",
        "\n",
        "  valid_size = 0.25\n",
        "  random_seed = 23\n",
        "\n",
        "  num_train = len(train_set)\n",
        "  indices = list(range(num_train))\n",
        "  split = int(np.floor(valid_size * num_train))\n",
        "\n",
        "  # Embaralha os indices\n",
        "  np.random.seed(random_seed)\n",
        "  np.random.shuffle(indices)\n",
        "\n",
        "  # faz o split do dataset\n",
        "  train_idx, valid_idx = indices[split:], indices[:split]\n",
        "  train_sampler = SubsetRandomSampler(train_idx)\n",
        "  valid_sampler = SubsetRandomSampler(valid_idx)\n",
        "\n",
        "  #Cria o batch loader\n",
        "  train_loader = torch.utils.data.DataLoader(train_set, batch_size=32, sampler=train_sampler, num_workers=0)\n",
        "  valid_loader = torch.utils.data.DataLoader(valid_set, batch_size=32, sampler=valid_sampler, num_workers=0)\n",
        "  test_loader = torch.utils.data.DataLoader(test_set, batch_size=32, shuffle=False, num_workers=0)\n",
        "\n",
        "  return train_loader, valid_loader, test_loader"
      ],
      "execution_count": 0,
      "outputs": []
    },
    {
      "cell_type": "code",
      "metadata": {
        "id": "dYDagQRhZ27K",
        "colab_type": "code",
        "colab": {}
      },
      "source": [
        "\n",
        "class ECG_dataset(Dataset):\n",
        "    def __init__(self,data,labels):\n",
        "        self.data = data\n",
        "        self.labels = labels\n",
        "\n",
        "    def __len__(self):\n",
        "        return len(self.data)\n",
        "\n",
        "    def __getitem__(self,idx):\n",
        "        return self.data[idx],self.labels[idx]\n",
        "\n",
        "def stretch(x):\n",
        "    l = int(187 * (1 + (random.random()-0.5)/3))\n",
        "    y = resample(x, l)\n",
        "    if l < 187:\n",
        "        y_ = np.zeros(shape=(187, ))\n",
        "        y_[:l] = y\n",
        "    else:\n",
        "        y_ = y[:187]\n",
        "    return y_\n",
        "\n",
        "def amplify(x):\n",
        "    alpha = (random.random()-0.5)\n",
        "    factor = -alpha*x + (1+alpha)\n",
        "    return x*factor\n",
        "\n",
        "\n",
        "def balancearDataset():\n",
        "\n",
        "# essa função divide os dados por categoria e acrescenta amostrar nas categorias com menos de 20000 amostras\n",
        "# essa adição de amostras é feita usando data augmentation, aplicando amplificação e encolhimento na série temporal \n",
        "  train = pd.read_csv(\"/content/heartbeat_dataset/mitbih_train.csv\", header=None)  \n",
        "\n",
        "  X = train.iloc[0:,0:187].values\n",
        "\n",
        "  # standardize data\n",
        "  min_max_scaler = preprocessing.MinMaxScaler()\n",
        "  X = min_max_scaler.fit_transform(X)\n",
        "\n",
        "  # define target\n",
        "  y = train.iloc[0:,187].values.astype(int)\n",
        "\n",
        "  #encontra os indices de cada classe\n",
        "  C0_idx = np.argwhere(y == 0).flatten()\n",
        "  C1_idx = np.argwhere(y == 1).flatten()\n",
        "  C2_idx = np.argwhere(y == 2).flatten()\n",
        "  C3_idx  = np.argwhere(y == 3).flatten()\n",
        "  C4_idx  = np.argwhere(y == 4).flatten()\n",
        "\n",
        "  #serapa as amostras por classe\n",
        "  C0 = X[C0_idx[0:20000]]\n",
        "  C1 = X[C1_idx]\n",
        "  C2 = X[C2_idx]\n",
        "  C3 = X[C3_idx]\n",
        "  C4 = X[C4_idx]   \n",
        "\n",
        "  # cria novas amostras pra cada categoria usando data augmentation   \n",
        "  while len(C1)<20000:    \n",
        "    idx = randint(0, len(C1)-1)\n",
        "    aug = randint(0,1)\n",
        "    if aug == 0:\n",
        "      C1 = np.append(C1, [amplify(C1[idx])],axis=0)\n",
        "    else:\n",
        "      C1 = np.append(C1, [stretch(C1[idx])],axis=0)\n",
        "\n",
        "  while len(C2)<20000:\n",
        "    idx = randint(0, len(C2)-1)\n",
        "    aug = randint(0,1)\n",
        "    if aug == 0:\n",
        "      C2 = np.append(C2, [amplify(C2[idx])],axis=0)\n",
        "    else:\n",
        "      C2 = np.append(C2, [stretch(C2[idx])],axis=0)\n",
        "\n",
        "  while len(C3)<20000:\n",
        "    idx = randint(0, len(C3)-1)\n",
        "    aug = randint(0,1)\n",
        "    if aug == 0:\n",
        "      C3 = np.append(C3, [amplify(C3[idx])],axis=0)\n",
        "    else:\n",
        "       C3 = np.append(C3, [stretch(C3[idx])],axis=0)  \n",
        "\n",
        "  while len(C4)<20000:\n",
        "    idx = randint(0, len(C4)-1)\n",
        "    aug = randint(0,1)\n",
        "    if aug == 0:\n",
        "      C4 = np.append(C4, [amplify(C4[idx])],axis=0)\n",
        "    else:\n",
        "      C4 = np.append(C4, [stretch(C4[idx])],axis=0)     \n",
        "   \n",
        "  # concatena as categorias\n",
        "  data = np.append(C0,C1, axis=0)\n",
        "  data = np.append(data, C2, axis=0)\n",
        "  data = np.append(data, C3, axis=0)\n",
        "  data = np.append(data, C4, axis=0) \n",
        "\n",
        "  #cria as labels\n",
        "  labels = np.append(np.zeros(len(C0)), np.ones(len(C1)),axis=0)\n",
        "  labels = np.append(labels, np.ones(len(C2))*2, axis=0)\n",
        "  labels = np.append(labels, np.ones(len(C3))*3, axis=0)\n",
        "  labels = np.append(labels, np.ones(len(C4))*4, axis=0)\n",
        "\n",
        "\n",
        "  sss = StratifiedShuffleSplit(n_splits=2, test_size=0.2, random_state=seed)\n",
        "  sss.get_n_splits(data, labels)\n",
        "\n",
        "  for train_index, val_index in sss.split(data, labels):\n",
        "    X_train, X_val = data[train_index], data[val_index]\n",
        "    y_train, y_val = labels[train_index], labels[val_index]  \n",
        "  \n",
        "  #test dataset\n",
        "  test  = pd.read_csv(\"/content/heartbeat_dataset/mitbih_test.csv\", header=None)  \n",
        "  \n",
        "  # define data samples\n",
        "  X_test = test.iloc[0:,0:187].values\n",
        "  \n",
        "  time_steps = 1\n",
        "\n",
        "  # define target\n",
        "  y_test = test.iloc[0:,187].values.astype(int)\n",
        "  X_test = X_test.reshape(X_test.shape[0], time_steps, X_test.shape[1])\n",
        "  y_test = y_test.reshape(y_test.shape[0], time_steps)\n",
        "\n",
        "  X_train = X_train.reshape(X_train.shape[0], time_steps, X_train.shape[1])\n",
        "  y_train = y_train.reshape(y_train.shape[0], time_steps)\n",
        "  X_val = X_val.reshape(X_val.shape[0], time_steps, X_val.shape[1])\n",
        "  y_val = y_val.reshape(y_val.shape[0], time_steps)   \n",
        "\n",
        "  print(len(X_train), len(X_val))\n",
        "\n",
        "  return X_train, y_train, X_val, y_val, X_test, y_test  \n",
        "\n",
        "def getLoaders():\n",
        "  X_train, y_train, X_val, y_val, X_test, y_test = balancearDataset()\n",
        "\n",
        "  #transformar em tensores\n",
        "  train_data   = torch.from_numpy(X_train).type(torch.Tensor)\n",
        "  valid_data   = torch.from_numpy(X_val).type(torch.Tensor)\n",
        "  test_data    = torch.from_numpy(X_test).type(torch.Tensor)\n",
        "\n",
        "  train_labels = torch.from_numpy(y_train).type(torch.LongTensor).view(-1)\n",
        "  valid_labels = torch.from_numpy(y_val).type(torch.LongTensor).view(-1)\n",
        "  test_labels  = torch.from_numpy(y_test).type(torch.LongTensor).view(-1)\n",
        "\n",
        "  #Cria o Dataset a partir dos dados\n",
        "  train_set = ECG_dataset(train_data, train_labels)\n",
        "  valid_set = ECG_dataset(valid_data, valid_labels)\n",
        "  test_set  = ECG_dataset(test_data, test_labels)\n",
        "\n",
        "  #Cria o batch loader\n",
        "  train_loader = torch.utils.data.DataLoader(train_set, batch_size=32, shuffle=False, num_workers=0)\n",
        "  valid_loader = torch.utils.data.DataLoader(valid_set, batch_size=32, shuffle=False, num_workers=0)\n",
        "  test_loader  = torch.utils.data.DataLoader(test_set, batch_size=32, shuffle=False, num_workers=0)\n",
        "\n",
        "  return train_loader, valid_loader, test_loader "
      ],
      "execution_count": 0,
      "outputs": []
    },
    {
      "cell_type": "markdown",
      "metadata": {
        "id": "rrM7Wz46bKAC",
        "colab_type": "text"
      },
      "source": [
        "# Modelo LSTM\n"
      ]
    },
    {
      "cell_type": "code",
      "metadata": {
        "id": "X5YGlQKHbOyE",
        "colab_type": "code",
        "colab": {}
      },
      "source": [
        "class ModeloLSTM(nn.Module):\n",
        "  def __init__(self, input_size, hidden_size, batch):\n",
        "    super().__init__()\n",
        "    self.bs = batch\n",
        "    self.numLayers = 1\n",
        "    self.hidden_size = hidden_size\n",
        "    #LSTM layer, batch_first para usar batchs\n",
        "    self.lstm1 = nn.LSTM(input_size, hidden_size, num_layers=self.numLayers, batch_first=True)#num_layers é a quantidade de celulas LSTM agrupadas\n",
        "    self.lstm2 = nn.LSTM(hidden_size, hidden_size, num_layers=self.numLayers, batch_first=True)#num_layers é a quantidade de celulas LSTM agrupadas\n",
        "    self.lstm3 = nn.LSTM(hidden_size, hidden_size, num_layers=self.numLayers, batch_first=True)#num_layers é a quantidade de celulas LSTM agrupadas\n",
        "    self.linear = nn.Linear(hidden_size, 5)\n",
        "    self.drop = nn.Dropout(p=0.5)\n",
        "  \n",
        "  def forward(self, input):\n",
        "    h0 = c0 = torch.zeros(self.numLayers,input.shape[0],self.hidden_size)\n",
        "    if torch.cuda.is_available():\n",
        "        h0 = h0.cuda()\n",
        "        c0 = c0.cuda()    \n",
        "    lstm1_out, (h0,c0) = self.lstm1(input, (h0,c0))    \n",
        "    lstm2_out, (h0,c0) = self.lstm2(lstm1_out, (h0,c0))\n",
        "    drop1 = self.drop(lstm2_out)\n",
        "    lstm3_out, (h0,c0) = self.lstm3(drop1, (h0,c0))    \n",
        "    drop2 = self.drop(lstm3_out)\n",
        "    predictions = self.linear(drop2.view(len(input), -1))\n",
        "    return predictions"
      ],
      "execution_count": 0,
      "outputs": []
    },
    {
      "cell_type": "markdown",
      "metadata": {
        "id": "kNVfJtwJbm3v",
        "colab_type": "text"
      },
      "source": [
        "# Plotar\n"
      ]
    },
    {
      "cell_type": "code",
      "metadata": {
        "id": "JuXKmsR8bpGO",
        "colab_type": "code",
        "colab": {}
      },
      "source": [
        "def plotar(train_loss, train_acc, val_loss, val_acc):\n",
        "  plt.title('Accuracy over epochs')\n",
        "  plt.xlabel('Epochs')\n",
        "  plt.ylabel('Accuracy')\n",
        "  plt.plot(train_acc, label='train')\n",
        "  plt.plot(val_acc, label='val')\n",
        "  plt.grid(True, which='both', axis='both')  \n",
        "  plt.tight_layout()\n",
        "  plt.legend()\n",
        "  plt.show()\n",
        "  plt.title('Loss over epochs')\n",
        "  plt.xlabel('Epochs')\n",
        "  plt.ylabel('Loss')\n",
        "  plt.plot(train_loss, label='train')\n",
        "  plt.plot(val_loss, label='val')\n",
        "  plt.grid(True, which='both', axis='both')\n",
        "  plt.tight_layout()\n",
        "  plt.legend()\n",
        "  plt.show()"
      ],
      "execution_count": 0,
      "outputs": []
    },
    {
      "cell_type": "markdown",
      "metadata": {
        "id": "q5kWzQaab56m",
        "colab_type": "text"
      },
      "source": [
        "# Salvar e Carregar\n"
      ]
    },
    {
      "cell_type": "code",
      "metadata": {
        "id": "tcoCNd_tb8t3",
        "colab_type": "code",
        "colab": {}
      },
      "source": [
        "def carregar_modeloLSTM(model_save_name):\n",
        "  model = ModeloLSTM(187, 30, 32)\n",
        "  model.load_state_dict(torch.load(model_save_name))\n",
        "  return model\n",
        "\n",
        "def carregar_modeloBLSTM(model_save_name):\n",
        "  model = ModeloBLSTM(14, 28, 32)\n",
        "  model.load_state_dict(torch.load(model_save_name))\n",
        "  return model\n",
        "\n",
        "def carregar_modeloRNN(model_save_name):\n",
        "  model = ModeloRNN(187, 20, 32)\n",
        "  model.load_state_dict(torch.load(model_save_name))\n",
        "  return model\n",
        "\n",
        "\n",
        "def salvar_modelo(model, model_save_name):\n",
        "  torch.save(model.state_dict(), model_save_name)"
      ],
      "execution_count": 0,
      "outputs": []
    },
    {
      "cell_type": "markdown",
      "metadata": {
        "id": "7HT7ZTuicgSA",
        "colab_type": "text"
      },
      "source": [
        "# Early stopping"
      ]
    },
    {
      "cell_type": "code",
      "metadata": {
        "id": "EqYhpjGvqcAC",
        "colab_type": "code",
        "colab": {}
      },
      "source": [
        "class EarlyStopping:\n",
        "    \"\"\"Early stops the training if validation loss doesn't improve after a given patience.\"\"\"\n",
        "    def __init__(self, patience=7, verbose=False, delta=0):\n",
        "        \"\"\"\n",
        "        Args:\n",
        "            patience (int): How long to wait after last time validation loss improved.\n",
        "                            Default: 7\n",
        "            verbose (bool): If True, prints a message for each validation loss improvement. \n",
        "                            Default: False\n",
        "            delta (float): Minimum change in the monitored quantity to qualify as an improvement.\n",
        "                            Default: 0\n",
        "        \"\"\"\n",
        "        self.patience = patience\n",
        "        self.verbose = verbose\n",
        "        self.counter = 0\n",
        "        self.best_score = None\n",
        "        self.early_stop = False\n",
        "        self.val_loss_min = np.Inf\n",
        "        self.delta = delta\n",
        "\n",
        "    def __call__(self, val_loss, model):\n",
        "\n",
        "        score = -val_loss\n",
        "\n",
        "        if self.best_score is None:\n",
        "            self.best_score = score\n",
        "            self.save_checkpoint(val_loss, model)\n",
        "        elif score < self.best_score + self.delta:\n",
        "            self.counter += 1\n",
        "            if self.verbose:\n",
        "              print(f'EarlyStopping counter: {self.counter} out of {self.patience}')\n",
        "            if self.counter >= self.patience:\n",
        "                self.early_stop = True\n",
        "        else:\n",
        "            self.best_score = score\n",
        "            self.save_checkpoint(val_loss, model)\n",
        "            self.counter = 0\n",
        "\n",
        "    def save_checkpoint(self, val_loss, model):\n",
        "        '''Saves model when validation loss decrease.'''\n",
        "        if self.verbose:\n",
        "            print(f'Validation loss decreased ({self.val_loss_min:.6f} --> {val_loss:.6f}).  Saving model ...')\n",
        "        torch.save(model.state_dict(), 'bestLoss.model')\n",
        "        self.val_loss_min = val_loss"
      ],
      "execution_count": 0,
      "outputs": []
    },
    {
      "cell_type": "markdown",
      "metadata": {
        "id": "J1O3oJUmcFk-",
        "colab_type": "text"
      },
      "source": [
        "# Função de treinamento"
      ]
    },
    {
      "cell_type": "code",
      "metadata": {
        "id": "BZuYxG_fcIYa",
        "colab_type": "code",
        "colab": {}
      },
      "source": [
        "def treinamento(train_loader, valid_loader, model, num_epochs, verbose):\n",
        "  train_losses , train_accuracy = [],[]\n",
        "  val_losses , val_accuracy = [],[]\n",
        "  totalTime = 0\n",
        "  optimizer = optim.Adam(model.parameters(), lr=0.001, weight_decay=0.0001)  # sets optimizer\n",
        "  scheduler = ReduceLROnPlateau(optimizer, mode='max', factor=0.2, patience=20, verbose=verbose, min_lr=0.00005)\n",
        "  best_loss, best_acc = fit(verbose, optimizer, scheduler,model,valid_loader, phase='validation')\n",
        "  \n",
        "  if verbose:\n",
        "    print(\"best_acc: \" + str(best_acc))\n",
        "\n",
        "  # initialize the early_stopping object\n",
        "  early_stopping = EarlyStopping(patience=30, verbose=verbose)\n",
        "\n",
        "  for epoch in range(1,num_epochs+1):\n",
        "    if verbose:   \n",
        "      print('epoch {}/{}'.format(epoch, num_epochs))\n",
        "      print('=' * 10)\n",
        "    epochStart = time.time()\n",
        "    train_epoch_loss, train_epoch_accuracy = fit(verbose, optimizer, scheduler, model, train_loader, phase='training')\n",
        "    val_epoch_loss , val_epoch_accuracy = fit(verbose, optimizer, scheduler, model, valid_loader, phase='validation')\n",
        "    epochEnd = time.time() \n",
        "\n",
        "    if verbose:   \n",
        "      print('Duração:', (epochEnd - epochStart))\n",
        "\n",
        "    if val_epoch_accuracy >= best_acc:\n",
        "      best_acc = val_epoch_accuracy\n",
        "      best_loss = val_epoch_loss\n",
        "      salvar_modelo(model, 'bestAccuracy.model')\n",
        "    \n",
        "    train_losses.append(train_epoch_loss)\n",
        "    train_accuracy.append(train_epoch_accuracy)\n",
        "    val_losses.append(val_epoch_loss)\n",
        "    val_accuracy.append(val_epoch_accuracy)\n",
        "   \n",
        "    early_stopping(val_epoch_loss, model)\n",
        "    if early_stopping.early_stop:\n",
        "      print(\"Early stopping in epoch\", epoch)\n",
        "      break\n",
        "  \n",
        "  return train_losses, train_accuracy, val_losses, val_accuracy \n",
        "\n",
        "def fit(verbose, optimizer, scheduler, model, data_loader, phase='training'):\n",
        "  if phase == 'training':\n",
        "    model.train()\n",
        "  if phase == 'validation':\n",
        "    model.train\n",
        "  running_loss = 0.0\n",
        "  running_correct = 0\n",
        "\n",
        "  for batch in data_loader:\n",
        "    data , target = batch     \n",
        "    \n",
        "    if torch.cuda.is_available():\n",
        "      data,target = data.cuda(),target.cuda()\n",
        "    \n",
        "    if phase == 'training':\n",
        "      optimizer.zero_grad()\n",
        "    \n",
        "    output = model(data)\n",
        "    loss = F.cross_entropy(output,target)\n",
        "\n",
        "    running_loss += loss\n",
        "    preds = output.data.max(dim=1,keepdim=True)[1]       \n",
        "    running_correct += preds.eq(target.data.view_as(preds)).cpu().sum().item()\n",
        "\n",
        "    if phase == 'training':\n",
        "      loss.backward()\n",
        "      optimizer.step()    \n",
        "  loss = running_loss/len(data_loader.sampler)\n",
        "  accuracy = 100. * running_correct/len(data_loader.sampler)\n",
        "\n",
        "  if verbose:\n",
        "    print(f'{phase} loss is {loss:{5}.{2}} and {phase} accuracy is {running_correct}/{len(data_loader.sampler)}{accuracy:{6}.{4}}%')\n",
        "  return loss,accuracy"
      ],
      "execution_count": 0,
      "outputs": []
    },
    {
      "cell_type": "markdown",
      "metadata": {
        "id": "LTPSUl__dVKk",
        "colab_type": "text"
      },
      "source": [
        "# Info modelo\n"
      ]
    },
    {
      "cell_type": "code",
      "metadata": {
        "id": "jjrjz_ATdZZw",
        "colab_type": "code",
        "colab": {}
      },
      "source": [
        "def infoModelo(model):\n",
        "  print(model)  \n",
        "  pytorch_total_params = sum(p.numel() for p in model.parameters())\n",
        "  pytorch_trainable_params = sum(p.numel() for p in model.parameters() if p.requires_grad)\n",
        "  print('Total params: ', pytorch_total_params)\n",
        "  print('Trainable params: ', pytorch_trainable_params)\n"
      ],
      "execution_count": 0,
      "outputs": []
    },
    {
      "cell_type": "markdown",
      "metadata": {
        "id": "Bv27UPx_dc3C",
        "colab_type": "text"
      },
      "source": [
        "# Teste do modelo"
      ]
    },
    {
      "cell_type": "code",
      "metadata": {
        "id": "lR__UlhNdmjd",
        "colab_type": "code",
        "colab": {}
      },
      "source": [
        "def testeDoModelo(model, data_loader):\n",
        "  if (torch.cuda.is_available()):\n",
        "    model = model.cuda()\n",
        "  model.eval()\n",
        "  running_loss = 0.0\n",
        "  running_correct = 0    \n",
        "  tot_predictions = []\n",
        "  labels = []\n",
        "  for batch in data_loader:\n",
        "    data , target = batch        \n",
        "    if torch.cuda.is_available():\n",
        "      data,target = data.cuda(),target.cuda()\n",
        "    output = model(data)\n",
        "    loss = F.cross_entropy(output,target)\n",
        "    running_loss += loss.item()    \n",
        "    preds = output.data.max(dim=1,keepdim=True)[1]\n",
        "    running_correct += preds.eq(target.data.view_as(preds)).cpu().sum().item()\n",
        "    tot_predictions.extend(preds.data.cpu().numpy())\n",
        "    labels.extend(target.data.cpu().numpy())\n",
        "        \n",
        "  loss = running_loss/len(data_loader.sampler)\n",
        "  accuracy = 100. * running_correct/len(data_loader.sampler)  \n",
        "  print(f'Test loss is {loss:{5}.{2}} and Test accuracy is {running_correct}/{len(data_loader.sampler)}{accuracy:{6}.{4}}%\\n')\n",
        "  return tot_predictions, labels\n",
        "\n",
        "\n",
        "def logitsDoModelo(model, data_loader):\n",
        "  if (torch.cuda.is_available()):\n",
        "    model = model.cuda()\n",
        "  model.eval()\n",
        "  running_loss = 0.0\n",
        "  running_correct = 0  \n",
        "  corrects = 0  \n",
        "  logits = []\n",
        "  for batch in data_loader:\n",
        "    data , target = batch        \n",
        "    if torch.cuda.is_available():\n",
        "      data,target = data.cuda(),target.cuda()\n",
        "    output = model(data)\n",
        "    loss = F.cross_entropy(output,target)\n",
        "    running_loss += loss.item()    \n",
        "    preds = output.data.max(dim=1,keepdim=True)[1]\n",
        "    logits.extend(output.data.cpu().numpy())\n",
        "    running_correct += preds.eq(target.data.view_as(preds)).cpu().sum().item()    \n",
        "  loss = running_loss/len(data_loader.sampler)\n",
        "  accuracy = 100. * running_correct/len(data_loader.sampler)  \n",
        "  print(f'Test loss is {loss:{5}.{2}} and Test accuracy is {running_correct}/{len(data_loader.sampler)}{accuracy:{6}.{4}}%\\n')\n",
        "  return logits"
      ],
      "execution_count": 0,
      "outputs": []
    },
    {
      "cell_type": "markdown",
      "metadata": {
        "id": "_VYtJYzmeEi9",
        "colab_type": "text"
      },
      "source": [
        "# Treinamento LSTM dataset desbalanceado\n"
      ]
    },
    {
      "cell_type": "code",
      "metadata": {
        "id": "kiM4zUjgeHj9",
        "colab_type": "code",
        "outputId": "fefd7a00-4ab0-476b-cee4-9b8e397a0b83",
        "colab": {
          "base_uri": "https://localhost:8080/",
          "height": 183
        }
      },
      "source": [
        "#Download e preparação dos dados\n",
        "train_loader, valid_loader, test_loader = prepararDados()\n",
        "\n",
        "#verificação CUDA\n",
        "print('CUDA', torch.cuda.is_available())\n",
        "\n",
        "#Cria o modelo \n",
        "model = ModeloLSTM(187, 30, 32)\n",
        "\n",
        "if(torch.cuda.is_available):\n",
        "  model = model.cuda()\n",
        "\n",
        "infoModelo(model)"
      ],
      "execution_count": 320,
      "outputs": [
        {
          "output_type": "stream",
          "text": [
            "CUDA True\n",
            "ModeloLSTM(\n",
            "  (lstm1): LSTM(187, 30, batch_first=True)\n",
            "  (lstm2): LSTM(30, 30, batch_first=True)\n",
            "  (lstm3): LSTM(30, 30, batch_first=True)\n",
            "  (linear): Linear(in_features=30, out_features=5, bias=True)\n",
            "  (drop): Dropout(p=0.5, inplace=False)\n",
            ")\n",
            "Total params:  41315\n",
            "Trainable params:  41315\n"
          ],
          "name": "stdout"
        }
      ]
    },
    {
      "cell_type": "code",
      "metadata": {
        "id": "1lmnbkxUeYje",
        "colab_type": "code",
        "outputId": "8a90b36a-408a-4de2-f6d2-82d37cb3b3bc",
        "colab": {
          "base_uri": "https://localhost:8080/",
          "height": 1000
        }
      },
      "source": [
        "train_losses, train_accuracy, val_losses, val_accuracy  = treinamento(train_loader, valid_loader, model, 20, True)"
      ],
      "execution_count": 224,
      "outputs": [
        {
          "output_type": "stream",
          "text": [
            "validation loss is 0.056 and validation accuracy is 1519/21889  6.94%\n",
            "best_acc: 6.939558682443236\n",
            "epoch 1/20\n",
            "==========\n",
            "training loss is 0.014 and training accuracy is 57744/65667 87.93%\n",
            "validation loss is 0.0086 and validation accuracy is 20326/21889 92.86%\n",
            "Duração: 11.189760684967041\n",
            "Validation loss decreased (inf --> 0.008567).  Saving model ...\n",
            "epoch 2/20\n",
            "==========\n",
            "training loss is 0.0077 and training accuracy is 61598/65667  93.8%\n",
            "validation loss is 0.0064 and validation accuracy is 20696/21889 94.55%\n",
            "Duração: 11.250930070877075\n",
            "Validation loss decreased (0.008567 --> 0.006364).  Saving model ...\n",
            "epoch 3/20\n",
            "==========\n",
            "training loss is 0.0061 and training accuracy is 62513/65667  95.2%\n",
            "validation loss is 0.0055 and validation accuracy is 20891/21889 95.44%\n",
            "Duração: 10.789093255996704\n",
            "Validation loss decreased (0.006364 --> 0.005512).  Saving model ...\n",
            "epoch 4/20\n",
            "==========\n",
            "training loss is 0.0053 and training accuracy is 62843/65667  95.7%\n",
            "validation loss is 0.0051 and validation accuracy is 20983/21889 95.86%\n",
            "Duração: 10.960592031478882\n",
            "Validation loss decreased (0.005512 --> 0.005054).  Saving model ...\n",
            "epoch 5/20\n",
            "==========\n",
            "training loss is 0.0048 and training accuracy is 63110/65667 96.11%\n",
            "validation loss is 0.0048 and validation accuracy is 21063/21889 96.23%\n",
            "Duração: 11.259551286697388\n",
            "Validation loss decreased (0.005054 --> 0.004791).  Saving model ...\n",
            "epoch 6/20\n",
            "==========\n",
            "training loss is 0.0045 and training accuracy is 63279/65667 96.36%\n",
            "validation loss is 0.0046 and validation accuracy is 21026/21889 96.06%\n",
            "Duração: 11.840674638748169\n",
            "Validation loss decreased (0.004791 --> 0.004637).  Saving model ...\n",
            "epoch 7/20\n",
            "==========\n",
            "training loss is 0.0043 and training accuracy is 63325/65667 96.43%\n",
            "validation loss is 0.0041 and validation accuracy is 21129/21889 96.53%\n",
            "Duração: 11.193516969680786\n",
            "Validation loss decreased (0.004637 --> 0.004135).  Saving model ...\n",
            "epoch 8/20\n",
            "==========\n",
            "training loss is 0.0042 and training accuracy is 63375/65667 96.51%\n",
            "validation loss is 0.004 and validation accuracy is 21130/21889 96.53%\n",
            "Duração: 10.974181890487671\n",
            "Validation loss decreased (0.004135 --> 0.004018).  Saving model ...\n",
            "epoch 9/20\n",
            "==========\n",
            "training loss is 0.004 and training accuracy is 63453/65667 96.63%\n",
            "validation loss is 0.0039 and validation accuracy is 21163/21889 96.68%\n",
            "Duração: 11.674393892288208\n",
            "Validation loss decreased (0.004018 --> 0.003862).  Saving model ...\n",
            "epoch 10/20\n",
            "==========\n",
            "training loss is 0.0039 and training accuracy is 63481/65667 96.67%\n",
            "validation loss is 0.0039 and validation accuracy is 21130/21889 96.53%\n",
            "Duração: 11.023647546768188\n",
            "EarlyStopping counter: 1 out of 30\n",
            "epoch 11/20\n",
            "==========\n",
            "training loss is 0.0038 and training accuracy is 63564/65667  96.8%\n",
            "validation loss is 0.0041 and validation accuracy is 21109/21889 96.44%\n",
            "Duração: 12.11608076095581\n",
            "EarlyStopping counter: 2 out of 30\n",
            "epoch 12/20\n",
            "==========\n",
            "training loss is 0.0037 and training accuracy is 63629/65667  96.9%\n",
            "validation loss is 0.0038 and validation accuracy is 21152/21889 96.63%\n",
            "Duração: 11.572121381759644\n",
            "Validation loss decreased (0.003862 --> 0.003839).  Saving model ...\n",
            "epoch 13/20\n",
            "==========\n",
            "training loss is 0.0036 and training accuracy is 63642/65667 96.92%\n",
            "validation loss is 0.0035 and validation accuracy is 21240/21889 97.04%\n",
            "Duração: 11.57399320602417\n",
            "Validation loss decreased (0.003839 --> 0.003508).  Saving model ...\n",
            "epoch 14/20\n",
            "==========\n",
            "training loss is 0.0035 and training accuracy is 63637/65667 96.91%\n",
            "validation loss is 0.0036 and validation accuracy is 21194/21889 96.82%\n",
            "Duração: 10.739703178405762\n",
            "EarlyStopping counter: 1 out of 30\n",
            "epoch 15/20\n",
            "==========\n",
            "training loss is 0.0034 and training accuracy is 63757/65667 97.09%\n",
            "validation loss is 0.0036 and validation accuracy is 21213/21889 96.91%\n",
            "Duração: 11.800750017166138\n",
            "EarlyStopping counter: 2 out of 30\n",
            "epoch 16/20\n",
            "==========\n",
            "training loss is 0.0034 and training accuracy is 63765/65667  97.1%\n",
            "validation loss is 0.0036 and validation accuracy is 21193/21889 96.82%\n",
            "Duração: 11.57226014137268\n",
            "EarlyStopping counter: 3 out of 30\n",
            "epoch 17/20\n",
            "==========\n",
            "training loss is 0.0033 and training accuracy is 63748/65667 97.08%\n",
            "validation loss is 0.0039 and validation accuracy is 21126/21889 96.51%\n",
            "Duração: 11.48724102973938\n",
            "EarlyStopping counter: 4 out of 30\n",
            "epoch 18/20\n",
            "==========\n",
            "training loss is 0.0033 and training accuracy is 63797/65667 97.15%\n",
            "validation loss is 0.0032 and validation accuracy is 21266/21889 97.15%\n",
            "Duração: 11.039069175720215\n",
            "Validation loss decreased (0.003508 --> 0.003237).  Saving model ...\n",
            "epoch 19/20\n",
            "==========\n",
            "training loss is 0.0032 and training accuracy is 63822/65667 97.19%\n",
            "validation loss is 0.0034 and validation accuracy is 21211/21889  96.9%\n",
            "Duração: 10.84238862991333\n",
            "EarlyStopping counter: 1 out of 30\n",
            "epoch 20/20\n",
            "==========\n",
            "training loss is 0.0032 and training accuracy is 63838/65667 97.21%\n",
            "validation loss is 0.0035 and validation accuracy is 21198/21889 96.84%\n",
            "Duração: 11.023608922958374\n",
            "EarlyStopping counter: 2 out of 30\n"
          ],
          "name": "stdout"
        }
      ]
    },
    {
      "cell_type": "code",
      "metadata": {
        "id": "P-yv88hLZw_u",
        "colab_type": "code",
        "outputId": "bde3d759-bbb9-4bc2-9fcf-6c9e910a54f6",
        "colab": {
          "base_uri": "https://localhost:8080/",
          "height": 577
        }
      },
      "source": [
        "plotar(train_losses, train_accuracy, val_losses, val_accuracy)"
      ],
      "execution_count": 225,
      "outputs": [
        {
          "output_type": "display_data",
          "data": {
            "image/png": "[encoded data removed]",
            "text/plain": [
              "<Figure size 432x288 with 1 Axes>"
            ]
          },
          "metadata": {
            "tags": []
          }
        },
        {
          "output_type": "display_data",
          "data": {
            "image/png": "[encoded data removed]",
            "text/plain": [
              "<Figure size 432x288 with 1 Axes>"
            ]
          },
          "metadata": {
            "tags": []
          }
        }
      ]
    },
    {
      "cell_type": "markdown",
      "metadata": {
        "id": "RrABS8nh1nH9",
        "colab_type": "text"
      },
      "source": [
        "Métricas e matriz de confusão usando dataset desbalanceado"
      ]
    },
    {
      "cell_type": "code",
      "metadata": {
        "id": "JRIDRR1M0pSe",
        "colab_type": "code",
        "outputId": "5edadda4-73ec-4df4-a9bc-0fed0473b82a",
        "colab": {
          "base_uri": "https://localhost:8080/",
          "height": 333
        }
      },
      "source": [
        "from sklearn.metrics import classification_report\n",
        "print('========= Modelo com melhor Loss no conjunto de validação ============\\n')\n",
        "model = carregar_modeloLSTM('bestLoss.model')\n",
        "if (torch.cuda.is_available()):\n",
        "  model = model.cuda()\n",
        "y_pred, y_test = testeDoModelo(model, test_loader)\n",
        "target_names = ['N', 'S', 'V', 'F', 'Q']\n",
        "print(classification_report(y_test, y_pred, target_names=target_names, digits=3))\n",
        "print('\\n\\n')"
      ],
      "execution_count": 226,
      "outputs": [
        {
          "output_type": "stream",
          "text": [
            "========= Modelo com melhor Loss no conjunto de validação ============\n",
            "\n",
            "Test loss is 0.0033 and Test accuracy is 21252/21890 97.09%\n",
            "\n",
            "              precision    recall  f1-score   support\n",
            "\n",
            "           N      0.977     0.993     0.985     18118\n",
            "           S      0.887     0.622     0.732       556\n",
            "           V      0.923     0.909     0.916      1447\n",
            "           F      0.855     0.441     0.582       161\n",
            "           Q      0.975     0.955     0.964      1608\n",
            "\n",
            "    accuracy                          0.971     21890\n",
            "   macro avg      0.923     0.784     0.836     21890\n",
            "weighted avg      0.970     0.971     0.969     21890\n",
            "\n",
            "\n",
            "\n",
            "\n"
          ],
          "name": "stdout"
        }
      ]
    },
    {
      "cell_type": "code",
      "metadata": {
        "id": "N2nTw_1S1vFh",
        "colab_type": "code",
        "outputId": "e6cf6fd1-0682-4654-a1e0-e23e25a16ba0",
        "colab": {
          "base_uri": "https://localhost:8080/",
          "height": 580
        }
      },
      "source": [
        "from sklearn.metrics import confusion_matrix\n",
        "print('========= Confusion Matrix  melhor Loss no conjunto de validação ============\\n')\n",
        "model = carregar_modeloLSTM('bestLoss.model')\n",
        "if (torch.cuda.is_available()):\n",
        "  model = model.cuda()\n",
        "\n",
        "y_pred, y_test = testeDoModelo(model, test_loader)\n",
        "\n",
        "confmat = confusion_matrix(y_true=y_test, y_pred=y_pred, labels=[0,1,2,3,4])\n",
        "\n",
        "fig, ax = plt.subplots(figsize=(7,7))\n",
        "ax.matshow(confmat, cmap=plt.cm.Blues, alpha=0.3)\n",
        "for i in range(confmat.shape[0]):\n",
        "    for j in range(confmat.shape[1]):\n",
        "        ax.text(x=j, y=i, s=confmat[i, j], va='center', ha='center')\n",
        "\n",
        "plt.xlabel('predicted label')\n",
        "plt.ylabel('true label')\n",
        "\n",
        "plt.tight_layout()\n",
        "plt.savefig('confusion_matrix.png', dpi=300)\n",
        "plt.show()"
      ],
      "execution_count": 227,
      "outputs": [
        {
          "output_type": "stream",
          "text": [
            "========= Confusion Matrix  melhor Loss no conjunto de validação ============\n",
            "\n",
            "Test loss is 0.0033 and Test accuracy is 21252/21890 97.09%\n",
            "\n"
          ],
          "name": "stdout"
        },
        {
          "output_type": "display_data",
          "data": {
            "image/png": "[encoded data removed]",
            "text/plain": [
              "<Figure size 504x504 with 1 Axes>"
            ]
          },
          "metadata": {
            "tags": []
          }
        }
      ]
    },
    {
      "cell_type": "code",
      "metadata": {
        "id": "Or5LszVimrvY",
        "colab_type": "code",
        "colab": {
          "base_uri": "https://localhost:8080/",
          "height": 50
        },
        "outputId": "db00e772-8463-4f7a-abb7-a0f3262ae79d"
      },
      "source": [
        "y_pred, y_test = testeDoModelo(model, train_loader)"
      ],
      "execution_count": 228,
      "outputs": [
        {
          "output_type": "stream",
          "text": [
            "Test loss is 0.0026 and Test accuracy is 64142/65667 97.68%\n",
            "\n"
          ],
          "name": "stdout"
        }
      ]
    },
    {
      "cell_type": "code",
      "metadata": {
        "id": "ssYtzLnEmr1g",
        "colab_type": "code",
        "colab": {
          "base_uri": "https://localhost:8080/",
          "height": 50
        },
        "outputId": "18121780-dd16-4f5b-d967-0ae6a11c1711"
      },
      "source": [
        "y_pred, y_test = testeDoModelo(model, valid_loader)"
      ],
      "execution_count": 229,
      "outputs": [
        {
          "output_type": "stream",
          "text": [
            "Test loss is 0.0032 and Test accuracy is 21266/21889 97.15%\n",
            "\n"
          ],
          "name": "stdout"
        }
      ]
    },
    {
      "cell_type": "code",
      "metadata": {
        "id": "Nl3vuJstmrzg",
        "colab_type": "code",
        "colab": {
          "base_uri": "https://localhost:8080/",
          "height": 50
        },
        "outputId": "ea67d8c2-d896-44cd-df61-c46ad28b8cda"
      },
      "source": [
        "y_pred, y_test = testeDoModelo(model, test_loader)"
      ],
      "execution_count": 230,
      "outputs": [
        {
          "output_type": "stream",
          "text": [
            "Test loss is 0.0033 and Test accuracy is 21252/21890 97.09%\n",
            "\n"
          ],
          "name": "stdout"
        }
      ]
    },
    {
      "cell_type": "code",
      "metadata": {
        "id": "pHmk6qHDmHNq",
        "colab_type": "code",
        "colab": {
          "base_uri": "https://localhost:8080/",
          "height": 183
        },
        "outputId": "5944dcec-8caf-4918-a286-bda5eb1d082e"
      },
      "source": [
        "#verificação CUDA\n",
        "print('CUDA', torch.cuda.is_available())\n",
        "\n",
        "#Cria o modelo \n",
        "model = ModeloLSTM(187, 30, 32)\n",
        "\n",
        "if(torch.cuda.is_available):\n",
        "  model = model.cuda()\n",
        "\n",
        "infoModelo(model)\n"
      ],
      "execution_count": 327,
      "outputs": [
        {
          "output_type": "stream",
          "text": [
            "CUDA True\n",
            "ModeloLSTM(\n",
            "  (lstm1): LSTM(187, 30, batch_first=True)\n",
            "  (lstm2): LSTM(30, 30, batch_first=True)\n",
            "  (lstm3): LSTM(30, 30, batch_first=True)\n",
            "  (linear): Linear(in_features=30, out_features=5, bias=True)\n",
            "  (drop): Dropout(p=0.5, inplace=False)\n",
            ")\n",
            "Total params:  41315\n",
            "Trainable params:  41315\n"
          ],
          "name": "stdout"
        }
      ]
    },
    {
      "cell_type": "code",
      "metadata": {
        "id": "uFrpXtXj39S9",
        "colab_type": "code",
        "colab": {
          "base_uri": "https://localhost:8080/",
          "height": 33
        },
        "outputId": "8845f5c4-b9c8-4a8c-e0f9-7e34d480a7e9"
      },
      "source": [
        "train_loader, valid_loader, test_loader = getLoaders()\n"
      ],
      "execution_count": 328,
      "outputs": [
        {
          "output_type": "stream",
          "text": [
            "80000 20000\n"
          ],
          "name": "stdout"
        }
      ]
    },
    {
      "cell_type": "code",
      "metadata": {
        "id": "hQTX4TpnmHba",
        "colab_type": "code",
        "colab": {
          "base_uri": "https://localhost:8080/",
          "height": 250
        },
        "outputId": "09f5fa0e-fbf0-4e24-8eeb-7a4cbd5d17b7"
      },
      "source": [
        "\n",
        "train_losses, train_accuracy, val_losses, val_accuracy  = treinamento(train_loader, valid_loader, model, 2, True)\n"
      ],
      "execution_count": 329,
      "outputs": [
        {
          "output_type": "stream",
          "text": [
            "validation loss is  0.05 and validation accuracy is 3423/20000 17.11%\n",
            "best_acc: 17.115\n",
            "epoch 1/2\n",
            "==========\n",
            "training loss is 0.023 and training accuracy is 58381/80000 72.98%\n",
            "validation loss is 0.017 and validation accuracy is 16244/20000 81.22%\n",
            "Duração: 12.511606931686401\n",
            "Validation loss decreased (inf --> 0.017049).  Saving model ...\n",
            "epoch 2/2\n",
            "==========\n",
            "training loss is 0.015 and training accuracy is 66801/80000  83.5%\n",
            "validation loss is 0.014 and validation accuracy is 17012/20000 85.06%\n",
            "Duração: 13.336897850036621\n",
            "Validation loss decreased (0.017049 --> 0.013840).  Saving model ...\n"
          ],
          "name": "stdout"
        }
      ]
    },
    {
      "cell_type": "code",
      "metadata": {
        "id": "5IXUmUdpn32D",
        "colab_type": "code",
        "colab": {
          "base_uri": "https://localhost:8080/",
          "height": 577
        },
        "outputId": "4dc47e28-fc99-406a-9664-b7237ffcad72"
      },
      "source": [
        "plotar(train_losses, train_accuracy, val_losses, val_accuracy)"
      ],
      "execution_count": 289,
      "outputs": [
        {
          "output_type": "display_data",
          "data": {
            "image/png": "[encoded data removed]",
            "text/plain": [
              "<Figure size 432x288 with 1 Axes>"
            ]
          },
          "metadata": {
            "tags": []
          }
        },
        {
          "output_type": "display_data",
          "data": {
            "image/png": "[encoded data removed]",
            "text/plain": [
              "<Figure size 432x288 with 1 Axes>"
            ]
          },
          "metadata": {
            "tags": []
          }
        }
      ]
    },
    {
      "cell_type": "code",
      "metadata": {
        "id": "uS1RMAQvn4GW",
        "colab_type": "code",
        "colab": {
          "base_uri": "https://localhost:8080/",
          "height": 387
        },
        "outputId": "d920f905-447a-46b9-f24f-a76d4c7db535"
      },
      "source": [
        "from sklearn.metrics import classification_report\n",
        "print('========= Modelo com melhor Loss no conjunto de validação ============\\n')\n",
        "model = carregar_modeloLSTM('bestLoss.model')\n",
        "if (torch.cuda.is_available()):\n",
        "  model = model.cuda()\n",
        "y_pred, y_test = testeDoModelo(model, train_loader)\n",
        "target_names = ['N', 'S', 'V', 'F', 'Q']\n",
        "print(classification_report(y_test, y_pred, target_names=target_names, digits=3))\n",
        "print('\\n\\n')"
      ],
      "execution_count": 304,
      "outputs": [
        {
          "output_type": "stream",
          "text": [
            "========= Modelo com melhor Loss no conjunto de validação ============\n",
            "\n",
            "Test loss is  0.14 and Test accuracy is 6231/34083 18.28%\n",
            "\n",
            "              precision    recall  f1-score   support\n",
            "\n",
            "           N      0.000     0.000     0.000     19800\n",
            "           S      0.000     0.000     0.000      2023\n",
            "           V      0.000     0.000     0.000      5588\n",
            "           F      0.000     0.000     0.000       441\n",
            "           Q      0.183     1.000     0.309      6231\n",
            "\n",
            "    accuracy                          0.183     34083\n",
            "   macro avg      0.037     0.200     0.062     34083\n",
            "weighted avg      0.033     0.183     0.057     34083\n",
            "\n",
            "\n",
            "\n",
            "\n"
          ],
          "name": "stdout"
        },
        {
          "output_type": "stream",
          "text": [
            "/usr/local/lib/python3.6/dist-packages/sklearn/metrics/_classification.py:1272: UndefinedMetricWarning: Precision and F-score are ill-defined and being set to 0.0 in labels with no predicted samples. Use `zero_division` parameter to control this behavior.\n",
            "  _warn_prf(average, modifier, msg_start, len(result))\n"
          ],
          "name": "stderr"
        }
      ]
    },
    {
      "cell_type": "code",
      "metadata": {
        "id": "5wkcE9SOn37i",
        "colab_type": "code",
        "colab": {
          "base_uri": "https://localhost:8080/",
          "height": 580
        },
        "outputId": "9c226bde-3509-44ea-b042-995b0a1f2876"
      },
      "source": [
        "from sklearn.metrics import confusion_matrix\n",
        "print('========= Confusion Matrix  melhor Loss no conjunto de validação ============\\n')\n",
        "model = carregar_modeloLSTM('bestLoss.model')\n",
        "if (torch.cuda.is_available()):\n",
        "  model = model.cuda()\n",
        "\n",
        "y_pred, y_test = testeDoModelo(model, train_loader)\n",
        "\n",
        "confmat = confusion_matrix(y_true=y_test, y_pred=y_pred, labels=[0,1,2,3,4])\n",
        "\n",
        "fig, ax = plt.subplots(figsize=(7,7))\n",
        "ax.matshow(confmat, cmap=plt.cm.Blues, alpha=0.3)\n",
        "for i in range(confmat.shape[0]):\n",
        "    for j in range(confmat.shape[1]):\n",
        "        ax.text(x=j, y=i, s=confmat[i, j], va='center', ha='center')\n",
        "\n",
        "plt.xlabel('predicted label')\n",
        "plt.ylabel('true label')\n",
        "\n",
        "plt.tight_layout()\n",
        "plt.savefig('confusion_matrix.png', dpi=500)\n",
        "plt.show()"
      ],
      "execution_count": 301,
      "outputs": [
        {
          "output_type": "stream",
          "text": [
            "========= Confusion Matrix  melhor Loss no conjunto de validação ============\n",
            "\n",
            "Test loss is  0.15 and Test accuracy is 6231/34083 18.28%\n",
            "\n"
          ],
          "name": "stdout"
        },
        {
          "output_type": "display_data",
          "data": {
            "image/png": "[encoded data removed]",
            "text/plain": [
              "<Figure size 504x504 with 1 Axes>"
            ]
          },
          "metadata": {
            "tags": []
          }
        }
      ]
    },
    {
      "cell_type": "markdown",
      "metadata": {
        "id": "Dn5pLTxJZl4T",
        "colab_type": "text"
      },
      "source": [
        "# Teste do modelo LSTM\n"
      ]
    },
    {
      "cell_type": "code",
      "metadata": {
        "id": "2YXWDoVKZo66",
        "colab_type": "code",
        "outputId": "55bfd76f-4f5b-44f4-83e8-6a2cafd983e9",
        "colab": {
          "base_uri": "https://localhost:8080/",
          "height": 52
        }
      },
      "source": [
        "modelBL = carregar_modeloLSTM('bestLoss.model')\n",
        "train_logits = logitsDoModelo(modelBL, train_loader)\n",
        "train_logits = torch.tensor(train_logits)\n",
        "train_logit = train_logits.cuda()"
      ],
      "execution_count": 0,
      "outputs": [
        {
          "output_type": "stream",
          "text": [
            "Test loss is 0.002 and Test accuracy is 64407/65667 98.08%\n",
            "\n"
          ],
          "name": "stdout"
        }
      ]
    },
    {
      "cell_type": "code",
      "metadata": {
        "id": "oruNM3sTZo-0",
        "colab_type": "code",
        "outputId": "c548ed7e-615f-4c1c-edac-0f84776b365c",
        "colab": {
          "base_uri": "https://localhost:8080/",
          "height": 52
        }
      },
      "source": [
        "valid_logits = logitsDoModelo(modelBL, valid_loader)\n",
        "valid_logits = torch.tensor(valid_logits)\n",
        "valid_logits = valid_logits.cuda()\n"
      ],
      "execution_count": 0,
      "outputs": [
        {
          "output_type": "stream",
          "text": [
            "Test loss is 0.0028 and Test accuracy is 21329/21889 97.44%\n",
            "\n"
          ],
          "name": "stdout"
        }
      ]
    },
    {
      "cell_type": "code",
      "metadata": {
        "id": "QWrdIXyFZpFW",
        "colab_type": "code",
        "outputId": "29ac6f81-c001-466d-ae34-ab3dd01cfe61",
        "colab": {
          "base_uri": "https://localhost:8080/",
          "height": 52
        }
      },
      "source": [
        "test_logits = logitsDoModelo(modelBL, test_loader)\n",
        "test_logits = torch.tensor(test_logits)\n",
        "test_logits = test_logits.cuda()\n"
      ],
      "execution_count": 0,
      "outputs": [
        {
          "output_type": "stream",
          "text": [
            "Test loss is 0.0029 and Test accuracy is 21316/21890 97.38%\n",
            "\n"
          ],
          "name": "stdout"
        }
      ]
    },
    {
      "cell_type": "markdown",
      "metadata": {
        "id": "i1Vf1X08c3ZL",
        "colab_type": "text"
      },
      "source": [
        "# Modelo RNN\n"
      ]
    },
    {
      "cell_type": "code",
      "metadata": {
        "id": "Q9DbZ4rwc6mD",
        "colab_type": "code",
        "colab": {}
      },
      "source": [
        "class ModeloRNN(nn.Module):\n",
        "  def __init__(self, input_size, hidden_size, batch):\n",
        "    super().__init__()\n",
        "    self.bs = batch\n",
        "    self.numLayers = 1\n",
        "    self.hidden_size = hidden_size\n",
        "    self.rnn1 = nn.RNN(input_size, hidden_size, num_layers=self.numLayers, batch_first=True)\n",
        "    self.rnn2 = nn.RNN(hidden_size, hidden_size, num_layers=self.numLayers, batch_first=True)\n",
        "    self.rnn3 = nn.RNN(hidden_size, hidden_size, num_layers=self.numLayers, batch_first=True)\n",
        "    self.linear = nn.Linear(hidden_size, 1)\n",
        "    self.sm = nn.Sigmoid()\n",
        "    self.drop = nn.Dropout(p=0.5)\n",
        "  \n",
        "  def forward(self, input):\n",
        "    h0 = torch.zeros(self.numLayers,input.shape[0],self.hidden_size)\n",
        "    if torch.cuda.is_available():\n",
        "        h0 = h0.cuda()           \n",
        "    rnn1_out, h0 = self.rnn1(input, h0)    \n",
        "    rnn2_out, h0 = self.rnn2(rnn1_out, h0)\n",
        "    drop1 = self.drop(rnn2_out)\n",
        "    rnn3_out, h0 = self.rnn3(drop1, h0)    \n",
        "    drop2 = self.drop(rnn3_out)\n",
        "    predictions = self.linear(drop2.view(len(input), -1))\n",
        "    return self.sm(predictions)"
      ],
      "execution_count": 0,
      "outputs": []
    },
    {
      "cell_type": "markdown",
      "metadata": {
        "id": "HEuMA7wtdWfp",
        "colab_type": "text"
      },
      "source": [
        "# Treinamento convencional modelo RNN dataset desbalanceado"
      ]
    },
    {
      "cell_type": "code",
      "metadata": {
        "id": "Fdtg4bVrdayQ",
        "colab_type": "code",
        "outputId": "0ac8c8f5-c07a-4d7e-b460-7fd557b5aa05",
        "colab": {
          "base_uri": "https://localhost:8080/",
          "height": 404
        }
      },
      "source": [
        "#Download e preparação dos dados\n",
        "train_loader, valid_loader, test_loader = prepararDados()\n",
        "\n",
        "#verificação CUDA\n",
        "print('CUDA', torch.cuda.is_available())\n",
        "\n",
        "#Cria o modelo \n",
        "model2 = ModeloRNN(187, 20, 32)\n",
        "\n",
        "if(torch.cuda.is_available):\n",
        "  model2 = model2.cuda()\n",
        "\n",
        "infoModelo(model2)"
      ],
      "execution_count": 0,
      "outputs": [
        {
          "output_type": "stream",
          "text": [
            "CUDA True\n"
          ],
          "name": "stdout"
        },
        {
          "output_type": "error",
          "ename": "RuntimeError",
          "evalue": "ignored",
          "traceback": [
            "\u001b[0;31m---------------------------------------------------------------------------\u001b[0m",
            "\u001b[0;31mRuntimeError\u001b[0m                              Traceback (most recent call last)",
            "\u001b[0;32m<ipython-input-22-1eb60f144323>\u001b[0m in \u001b[0;36m<module>\u001b[0;34m()\u001b[0m\n\u001b[1;32m      8\u001b[0m \u001b[0;34m\u001b[0m\u001b[0m\n\u001b[1;32m      9\u001b[0m \u001b[0;32mif\u001b[0m\u001b[0;34m(\u001b[0m\u001b[0mtorch\u001b[0m\u001b[0;34m.\u001b[0m\u001b[0mcuda\u001b[0m\u001b[0;34m.\u001b[0m\u001b[0mis_available\u001b[0m\u001b[0;34m)\u001b[0m\u001b[0;34m:\u001b[0m\u001b[0;34m\u001b[0m\u001b[0;34m\u001b[0m\u001b[0m\n\u001b[0;32m---> 10\u001b[0;31m   \u001b[0mmodel2\u001b[0m \u001b[0;34m=\u001b[0m \u001b[0mmodel2\u001b[0m\u001b[0;34m.\u001b[0m\u001b[0mcuda\u001b[0m\u001b[0;34m(\u001b[0m\u001b[0;34m)\u001b[0m\u001b[0;34m\u001b[0m\u001b[0;34m\u001b[0m\u001b[0m\n\u001b[0m\u001b[1;32m     11\u001b[0m \u001b[0;34m\u001b[0m\u001b[0m\n\u001b[1;32m     12\u001b[0m \u001b[0minfoModelo\u001b[0m\u001b[0;34m(\u001b[0m\u001b[0mmodel2\u001b[0m\u001b[0;34m)\u001b[0m\u001b[0;34m\u001b[0m\u001b[0;34m\u001b[0m\u001b[0m\n",
            "\u001b[0;32m/usr/local/lib/python3.6/dist-packages/torch/nn/modules/module.py\u001b[0m in \u001b[0;36mcuda\u001b[0;34m(self, device)\u001b[0m\n\u001b[1;32m    302\u001b[0m             \u001b[0mModule\u001b[0m\u001b[0;34m:\u001b[0m \u001b[0mself\u001b[0m\u001b[0;34m\u001b[0m\u001b[0;34m\u001b[0m\u001b[0m\n\u001b[1;32m    303\u001b[0m         \"\"\"\n\u001b[0;32m--> 304\u001b[0;31m         \u001b[0;32mreturn\u001b[0m \u001b[0mself\u001b[0m\u001b[0;34m.\u001b[0m\u001b[0m_apply\u001b[0m\u001b[0;34m(\u001b[0m\u001b[0;32mlambda\u001b[0m \u001b[0mt\u001b[0m\u001b[0;34m:\u001b[0m \u001b[0mt\u001b[0m\u001b[0;34m.\u001b[0m\u001b[0mcuda\u001b[0m\u001b[0;34m(\u001b[0m\u001b[0mdevice\u001b[0m\u001b[0;34m)\u001b[0m\u001b[0;34m)\u001b[0m\u001b[0;34m\u001b[0m\u001b[0;34m\u001b[0m\u001b[0m\n\u001b[0m\u001b[1;32m    305\u001b[0m \u001b[0;34m\u001b[0m\u001b[0m\n\u001b[1;32m    306\u001b[0m     \u001b[0;32mdef\u001b[0m \u001b[0mcpu\u001b[0m\u001b[0;34m(\u001b[0m\u001b[0mself\u001b[0m\u001b[0;34m)\u001b[0m\u001b[0;34m:\u001b[0m\u001b[0;34m\u001b[0m\u001b[0;34m\u001b[0m\u001b[0m\n",
            "\u001b[0;32m/usr/local/lib/python3.6/dist-packages/torch/nn/modules/module.py\u001b[0m in \u001b[0;36m_apply\u001b[0;34m(self, fn)\u001b[0m\n\u001b[1;32m    199\u001b[0m     \u001b[0;32mdef\u001b[0m \u001b[0m_apply\u001b[0m\u001b[0;34m(\u001b[0m\u001b[0mself\u001b[0m\u001b[0;34m,\u001b[0m \u001b[0mfn\u001b[0m\u001b[0;34m)\u001b[0m\u001b[0;34m:\u001b[0m\u001b[0;34m\u001b[0m\u001b[0;34m\u001b[0m\u001b[0m\n\u001b[1;32m    200\u001b[0m         \u001b[0;32mfor\u001b[0m \u001b[0mmodule\u001b[0m \u001b[0;32min\u001b[0m \u001b[0mself\u001b[0m\u001b[0;34m.\u001b[0m\u001b[0mchildren\u001b[0m\u001b[0;34m(\u001b[0m\u001b[0;34m)\u001b[0m\u001b[0;34m:\u001b[0m\u001b[0;34m\u001b[0m\u001b[0;34m\u001b[0m\u001b[0m\n\u001b[0;32m--> 201\u001b[0;31m             \u001b[0mmodule\u001b[0m\u001b[0;34m.\u001b[0m\u001b[0m_apply\u001b[0m\u001b[0;34m(\u001b[0m\u001b[0mfn\u001b[0m\u001b[0;34m)\u001b[0m\u001b[0;34m\u001b[0m\u001b[0;34m\u001b[0m\u001b[0m\n\u001b[0m\u001b[1;32m    202\u001b[0m \u001b[0;34m\u001b[0m\u001b[0m\n\u001b[1;32m    203\u001b[0m         \u001b[0;32mdef\u001b[0m \u001b[0mcompute_should_use_set_data\u001b[0m\u001b[0;34m(\u001b[0m\u001b[0mtensor\u001b[0m\u001b[0;34m,\u001b[0m \u001b[0mtensor_applied\u001b[0m\u001b[0;34m)\u001b[0m\u001b[0;34m:\u001b[0m\u001b[0;34m\u001b[0m\u001b[0;34m\u001b[0m\u001b[0m\n",
            "\u001b[0;32m/usr/local/lib/python3.6/dist-packages/torch/nn/modules/rnn.py\u001b[0m in \u001b[0;36m_apply\u001b[0;34m(self, fn)\u001b[0m\n\u001b[1;32m    130\u001b[0m \u001b[0;34m\u001b[0m\u001b[0m\n\u001b[1;32m    131\u001b[0m     \u001b[0;32mdef\u001b[0m \u001b[0m_apply\u001b[0m\u001b[0;34m(\u001b[0m\u001b[0mself\u001b[0m\u001b[0;34m,\u001b[0m \u001b[0mfn\u001b[0m\u001b[0;34m)\u001b[0m\u001b[0;34m:\u001b[0m\u001b[0;34m\u001b[0m\u001b[0;34m\u001b[0m\u001b[0m\n\u001b[0;32m--> 132\u001b[0;31m         \u001b[0mret\u001b[0m \u001b[0;34m=\u001b[0m \u001b[0msuper\u001b[0m\u001b[0;34m(\u001b[0m\u001b[0mRNNBase\u001b[0m\u001b[0;34m,\u001b[0m \u001b[0mself\u001b[0m\u001b[0;34m)\u001b[0m\u001b[0;34m.\u001b[0m\u001b[0m_apply\u001b[0m\u001b[0;34m(\u001b[0m\u001b[0mfn\u001b[0m\u001b[0;34m)\u001b[0m\u001b[0;34m\u001b[0m\u001b[0;34m\u001b[0m\u001b[0m\n\u001b[0m\u001b[1;32m    133\u001b[0m \u001b[0;34m\u001b[0m\u001b[0m\n\u001b[1;32m    134\u001b[0m         \u001b[0;31m# Resets _flat_weights\u001b[0m\u001b[0;34m\u001b[0m\u001b[0;34m\u001b[0m\u001b[0;34m\u001b[0m\u001b[0m\n",
            "\u001b[0;32m/usr/local/lib/python3.6/dist-packages/torch/nn/modules/module.py\u001b[0m in \u001b[0;36m_apply\u001b[0;34m(self, fn)\u001b[0m\n\u001b[1;32m    221\u001b[0m                 \u001b[0;31m# `with torch.no_grad():`\u001b[0m\u001b[0;34m\u001b[0m\u001b[0;34m\u001b[0m\u001b[0;34m\u001b[0m\u001b[0m\n\u001b[1;32m    222\u001b[0m                 \u001b[0;32mwith\u001b[0m \u001b[0mtorch\u001b[0m\u001b[0;34m.\u001b[0m\u001b[0mno_grad\u001b[0m\u001b[0;34m(\u001b[0m\u001b[0;34m)\u001b[0m\u001b[0;34m:\u001b[0m\u001b[0;34m\u001b[0m\u001b[0;34m\u001b[0m\u001b[0m\n\u001b[0;32m--> 223\u001b[0;31m                     \u001b[0mparam_applied\u001b[0m \u001b[0;34m=\u001b[0m \u001b[0mfn\u001b[0m\u001b[0;34m(\u001b[0m\u001b[0mparam\u001b[0m\u001b[0;34m)\u001b[0m\u001b[0;34m\u001b[0m\u001b[0;34m\u001b[0m\u001b[0m\n\u001b[0m\u001b[1;32m    224\u001b[0m                 \u001b[0mshould_use_set_data\u001b[0m \u001b[0;34m=\u001b[0m \u001b[0mcompute_should_use_set_data\u001b[0m\u001b[0;34m(\u001b[0m\u001b[0mparam\u001b[0m\u001b[0;34m,\u001b[0m \u001b[0mparam_applied\u001b[0m\u001b[0;34m)\u001b[0m\u001b[0;34m\u001b[0m\u001b[0;34m\u001b[0m\u001b[0m\n\u001b[1;32m    225\u001b[0m                 \u001b[0;32mif\u001b[0m \u001b[0mshould_use_set_data\u001b[0m\u001b[0;34m:\u001b[0m\u001b[0;34m\u001b[0m\u001b[0;34m\u001b[0m\u001b[0m\n",
            "\u001b[0;32m/usr/local/lib/python3.6/dist-packages/torch/nn/modules/module.py\u001b[0m in \u001b[0;36m<lambda>\u001b[0;34m(t)\u001b[0m\n\u001b[1;32m    302\u001b[0m             \u001b[0mModule\u001b[0m\u001b[0;34m:\u001b[0m \u001b[0mself\u001b[0m\u001b[0;34m\u001b[0m\u001b[0;34m\u001b[0m\u001b[0m\n\u001b[1;32m    303\u001b[0m         \"\"\"\n\u001b[0;32m--> 304\u001b[0;31m         \u001b[0;32mreturn\u001b[0m \u001b[0mself\u001b[0m\u001b[0;34m.\u001b[0m\u001b[0m_apply\u001b[0m\u001b[0;34m(\u001b[0m\u001b[0;32mlambda\u001b[0m \u001b[0mt\u001b[0m\u001b[0;34m:\u001b[0m \u001b[0mt\u001b[0m\u001b[0;34m.\u001b[0m\u001b[0mcuda\u001b[0m\u001b[0;34m(\u001b[0m\u001b[0mdevice\u001b[0m\u001b[0;34m)\u001b[0m\u001b[0;34m)\u001b[0m\u001b[0;34m\u001b[0m\u001b[0;34m\u001b[0m\u001b[0m\n\u001b[0m\u001b[1;32m    305\u001b[0m \u001b[0;34m\u001b[0m\u001b[0m\n\u001b[1;32m    306\u001b[0m     \u001b[0;32mdef\u001b[0m \u001b[0mcpu\u001b[0m\u001b[0;34m(\u001b[0m\u001b[0mself\u001b[0m\u001b[0;34m)\u001b[0m\u001b[0;34m:\u001b[0m\u001b[0;34m\u001b[0m\u001b[0;34m\u001b[0m\u001b[0m\n",
            "\u001b[0;31mRuntimeError\u001b[0m: CUDA error: device-side assert triggered"
          ]
        }
      ]
    },
    {
      "cell_type": "code",
      "metadata": {
        "id": "AxM86jNkdhbK",
        "colab_type": "code",
        "outputId": "df455e35-f5d6-4121-92e4-194a7a0055cf",
        "colab": {
          "base_uri": "https://localhost:8080/",
          "height": 315
        }
      },
      "source": [
        "train_losses, train_accuracy, val_losses, val_accuracy  = treinamento(train_loader, valid_loader, model2, 50, True)"
      ],
      "execution_count": 0,
      "outputs": [
        {
          "output_type": "error",
          "ename": "RuntimeError",
          "evalue": "ignored",
          "traceback": [
            "\u001b[0;31m---------------------------------------------------------------------------\u001b[0m",
            "\u001b[0;31mRuntimeError\u001b[0m                              Traceback (most recent call last)",
            "\u001b[0;32m<ipython-input-21-d88983c48a95>\u001b[0m in \u001b[0;36m<module>\u001b[0;34m()\u001b[0m\n\u001b[0;32m----> 1\u001b[0;31m \u001b[0mtrain_losses\u001b[0m\u001b[0;34m,\u001b[0m \u001b[0mtrain_accuracy\u001b[0m\u001b[0;34m,\u001b[0m \u001b[0mval_losses\u001b[0m\u001b[0;34m,\u001b[0m \u001b[0mval_accuracy\u001b[0m  \u001b[0;34m=\u001b[0m \u001b[0mtreinamento\u001b[0m\u001b[0;34m(\u001b[0m\u001b[0mtrain_loader\u001b[0m\u001b[0;34m,\u001b[0m \u001b[0mvalid_loader\u001b[0m\u001b[0;34m,\u001b[0m \u001b[0mmodel2\u001b[0m\u001b[0;34m,\u001b[0m \u001b[0;36m50\u001b[0m\u001b[0;34m,\u001b[0m \u001b[0;32mTrue\u001b[0m\u001b[0;34m)\u001b[0m\u001b[0;34m\u001b[0m\u001b[0;34m\u001b[0m\u001b[0m\n\u001b[0m",
            "\u001b[0;32m<ipython-input-20-b1fbd0bbf5ad>\u001b[0m in \u001b[0;36mtreinamento\u001b[0;34m(train_loader, valid_loader, model, num_epochs, verbose)\u001b[0m\n\u001b[1;32m      5\u001b[0m   \u001b[0moptimizer\u001b[0m \u001b[0;34m=\u001b[0m \u001b[0moptim\u001b[0m\u001b[0;34m.\u001b[0m\u001b[0mAdam\u001b[0m\u001b[0;34m(\u001b[0m\u001b[0mmodel\u001b[0m\u001b[0;34m.\u001b[0m\u001b[0mparameters\u001b[0m\u001b[0;34m(\u001b[0m\u001b[0;34m)\u001b[0m\u001b[0;34m,\u001b[0m \u001b[0mlr\u001b[0m\u001b[0;34m=\u001b[0m\u001b[0;36m0.001\u001b[0m\u001b[0;34m,\u001b[0m \u001b[0mweight_decay\u001b[0m\u001b[0;34m=\u001b[0m\u001b[0;36m0.0001\u001b[0m\u001b[0;34m)\u001b[0m  \u001b[0;31m# sets optimizer\u001b[0m\u001b[0;34m\u001b[0m\u001b[0;34m\u001b[0m\u001b[0m\n\u001b[1;32m      6\u001b[0m   \u001b[0mscheduler\u001b[0m \u001b[0;34m=\u001b[0m \u001b[0mReduceLROnPlateau\u001b[0m\u001b[0;34m(\u001b[0m\u001b[0moptimizer\u001b[0m\u001b[0;34m,\u001b[0m \u001b[0mmode\u001b[0m\u001b[0;34m=\u001b[0m\u001b[0;34m'max'\u001b[0m\u001b[0;34m,\u001b[0m \u001b[0mfactor\u001b[0m\u001b[0;34m=\u001b[0m\u001b[0;36m0.2\u001b[0m\u001b[0;34m,\u001b[0m \u001b[0mpatience\u001b[0m\u001b[0;34m=\u001b[0m\u001b[0;36m20\u001b[0m\u001b[0;34m,\u001b[0m \u001b[0mverbose\u001b[0m\u001b[0;34m=\u001b[0m\u001b[0mverbose\u001b[0m\u001b[0;34m,\u001b[0m \u001b[0mmin_lr\u001b[0m\u001b[0;34m=\u001b[0m\u001b[0;36m0.00005\u001b[0m\u001b[0;34m)\u001b[0m\u001b[0;34m\u001b[0m\u001b[0;34m\u001b[0m\u001b[0m\n\u001b[0;32m----> 7\u001b[0;31m   \u001b[0mbest_loss\u001b[0m\u001b[0;34m,\u001b[0m \u001b[0mbest_acc\u001b[0m \u001b[0;34m=\u001b[0m \u001b[0mfit\u001b[0m\u001b[0;34m(\u001b[0m\u001b[0mverbose\u001b[0m\u001b[0;34m,\u001b[0m \u001b[0moptimizer\u001b[0m\u001b[0;34m,\u001b[0m \u001b[0mscheduler\u001b[0m\u001b[0;34m,\u001b[0m\u001b[0mmodel\u001b[0m\u001b[0;34m,\u001b[0m\u001b[0mvalid_loader\u001b[0m\u001b[0;34m,\u001b[0m \u001b[0mphase\u001b[0m\u001b[0;34m=\u001b[0m\u001b[0;34m'validation'\u001b[0m\u001b[0;34m)\u001b[0m\u001b[0;34m\u001b[0m\u001b[0;34m\u001b[0m\u001b[0m\n\u001b[0m\u001b[1;32m      8\u001b[0m \u001b[0;34m\u001b[0m\u001b[0m\n\u001b[1;32m      9\u001b[0m   \u001b[0;32mif\u001b[0m \u001b[0mverbose\u001b[0m\u001b[0;34m:\u001b[0m\u001b[0;34m\u001b[0m\u001b[0;34m\u001b[0m\u001b[0m\n",
            "\u001b[0;32m<ipython-input-20-b1fbd0bbf5ad>\u001b[0m in \u001b[0;36mfit\u001b[0;34m(verbose, optimizer, scheduler, model, data_loader, phase)\u001b[0m\n\u001b[1;32m     53\u001b[0m     \u001b[0mdata\u001b[0m \u001b[0;34m,\u001b[0m \u001b[0mtarget\u001b[0m \u001b[0;34m=\u001b[0m \u001b[0mbatch\u001b[0m\u001b[0;34m\u001b[0m\u001b[0;34m\u001b[0m\u001b[0m\n\u001b[1;32m     54\u001b[0m     \u001b[0;32mif\u001b[0m \u001b[0mtorch\u001b[0m\u001b[0;34m.\u001b[0m\u001b[0mcuda\u001b[0m\u001b[0;34m.\u001b[0m\u001b[0mis_available\u001b[0m\u001b[0;34m(\u001b[0m\u001b[0;34m)\u001b[0m\u001b[0;34m:\u001b[0m\u001b[0;34m\u001b[0m\u001b[0;34m\u001b[0m\u001b[0m\n\u001b[0;32m---> 55\u001b[0;31m       \u001b[0mdata\u001b[0m\u001b[0;34m,\u001b[0m\u001b[0mtarget\u001b[0m \u001b[0;34m=\u001b[0m \u001b[0mdata\u001b[0m\u001b[0;34m.\u001b[0m\u001b[0mcuda\u001b[0m\u001b[0;34m(\u001b[0m\u001b[0;34m)\u001b[0m\u001b[0;34m,\u001b[0m\u001b[0mtarget\u001b[0m\u001b[0;34m.\u001b[0m\u001b[0mcuda\u001b[0m\u001b[0;34m(\u001b[0m\u001b[0;34m)\u001b[0m\u001b[0;34m\u001b[0m\u001b[0;34m\u001b[0m\u001b[0m\n\u001b[0m\u001b[1;32m     56\u001b[0m     \u001b[0;32mif\u001b[0m \u001b[0mphase\u001b[0m \u001b[0;34m==\u001b[0m \u001b[0;34m'training'\u001b[0m\u001b[0;34m:\u001b[0m\u001b[0;34m\u001b[0m\u001b[0;34m\u001b[0m\u001b[0m\n\u001b[1;32m     57\u001b[0m       \u001b[0moptimizer\u001b[0m\u001b[0;34m.\u001b[0m\u001b[0mzero_grad\u001b[0m\u001b[0;34m(\u001b[0m\u001b[0;34m)\u001b[0m\u001b[0;34m\u001b[0m\u001b[0;34m\u001b[0m\u001b[0m\n",
            "\u001b[0;31mRuntimeError\u001b[0m: CUDA error: device-side assert triggered"
          ]
        }
      ]
    },
    {
      "cell_type": "code",
      "metadata": {
        "id": "jWf0kktFpAIo",
        "colab_type": "code",
        "outputId": "449b8782-03ff-4733-e0dc-ac0978a46b39",
        "colab": {
          "base_uri": "https://localhost:8080/",
          "height": 577
        }
      },
      "source": [
        "plotar(train_losses, train_accuracy, val_losses, val_accuracy)"
      ],
      "execution_count": 0,
      "outputs": [
        {
          "output_type": "display_data",
          "data": {
            "image/png": "[encoded data removed]",
            "text/plain": [
              "<Figure size 432x288 with 1 Axes>"
            ]
          },
          "metadata": {
            "tags": []
          }
        },
        {
          "output_type": "display_data",
          "data": {
            "image/png": "[encoded data removed]",
            "text/plain": [
              "<Figure size 432x288 with 1 Axes>"
            ]
          },
          "metadata": {
            "tags": []
          }
        }
      ]
    },
    {
      "cell_type": "markdown",
      "metadata": {
        "id": "ylpSLQkUpBuK",
        "colab_type": "text"
      },
      "source": [
        "# Teste RNN"
      ]
    },
    {
      "cell_type": "code",
      "metadata": {
        "colab_type": "code",
        "outputId": "9d5a2aa4-c533-4a88-827c-241d44059610",
        "id": "jIQQRpTOpOW-",
        "colab": {
          "base_uri": "https://localhost:8080/",
          "height": 52
        }
      },
      "source": [
        "modelBL = carregar_modeloRNN('bestLoss.model')\n",
        "train_out = testeDoModelo(modelBL, train_loader)\n"
      ],
      "execution_count": 0,
      "outputs": [
        {
          "output_type": "stream",
          "text": [
            "Test loss is 0.0068 and Test accuracy is 61391/65667 93.49%\n",
            "\n"
          ],
          "name": "stdout"
        }
      ]
    },
    {
      "cell_type": "code",
      "metadata": {
        "colab_type": "code",
        "outputId": "64b10cb2-d970-4cb9-c3ea-fcc93c27c4ba",
        "id": "WLOehPChpuLT",
        "colab": {
          "base_uri": "https://localhost:8080/",
          "height": 52
        }
      },
      "source": [
        "valid_out = testeDoModelo(modelBL, valid_loader)\n",
        "\n"
      ],
      "execution_count": 0,
      "outputs": [
        {
          "output_type": "stream",
          "text": [
            "Test loss is 0.007 and Test accuracy is 20443/21889 93.39%\n",
            "\n"
          ],
          "name": "stdout"
        }
      ]
    },
    {
      "cell_type": "code",
      "metadata": {
        "colab_type": "code",
        "outputId": "5ad93afd-f8fe-445e-e761-9e39de7d1e31",
        "id": "JVkOnwLPp2-X",
        "colab": {
          "base_uri": "https://localhost:8080/",
          "height": 52
        }
      },
      "source": [
        "test_out = testeDoModelo(modelBL, test_loader)\n",
        "\n"
      ],
      "execution_count": 0,
      "outputs": [
        {
          "output_type": "stream",
          "text": [
            "Test loss is 0.0073 and Test accuracy is 20404/21890 93.21%\n",
            "\n"
          ],
          "name": "stdout"
        }
      ]
    },
    {
      "cell_type": "markdown",
      "metadata": {
        "id": "EFukg6GtBqww",
        "colab_type": "text"
      },
      "source": [
        "# Função Treinamento KD\n"
      ]
    },
    {
      "cell_type": "code",
      "metadata": {
        "id": "9WKa6h7sBzcD",
        "colab_type": "code",
        "colab": {}
      },
      "source": [
        "def treinamentoSoft(train_logits, valid_logits, train_loader, valid_loader, model, num_epochs, verbose):\n",
        "  train_losses , train_accuracy = [],[]\n",
        "  val_losses , val_accuracy = [],[]\n",
        "  totalTime = 0\n",
        "  optimizer = optim.Adam(model.parameters(), lr=0.001, weight_decay=0.0001)  # sets optimizer\n",
        "  scheduler = ReduceLROnPlateau(optimizer, mode='max', factor=0.2, patience=50, verbose=verbose, min_lr=0.00005)\n",
        "  best_loss, best_acc = fitSoft(valid_logits, verbose, optimizer, scheduler,model,valid_loader, phase='validation')\n",
        "  \n",
        "  if verbose:\n",
        "    print(\"best_acc: \" + str(best_acc))\n",
        "\n",
        "  # initialize the early_stopping object\n",
        "  early_stopping = EarlyStopping(patience=100, verbose=verbose)\n",
        "\n",
        "  for epoch in range(1,num_epochs+1):\n",
        "    if verbose:   \n",
        "      print('epoch {}/{}'.format(epoch, num_epochs))\n",
        "      print('=' * 10)\n",
        "    epochStart = time.time()\n",
        "    train_epoch_loss, train_epoch_accuracy = fitSoft(train_logits, verbose, optimizer, scheduler, model, train_loader, phase='training')\n",
        "    val_epoch_loss , val_epoch_accuracy = fitSoft(valid_logits, verbose, optimizer, scheduler, model, valid_loader, phase='validation')\n",
        "    epochEnd = time.time() \n",
        "\n",
        "    if verbose:   \n",
        "      print('Duração:', (epochEnd - epochStart))\n",
        "\n",
        "    if val_epoch_accuracy >= best_acc:\n",
        "      best_acc = val_epoch_accuracy\n",
        "      best_loss = val_epoch_loss\n",
        "      salvar_modelo(model, 'bestAccuracy.model')\n",
        "    \n",
        "    train_losses.append(train_epoch_loss)\n",
        "    train_accuracy.append(train_epoch_accuracy)\n",
        "    val_losses.append(val_epoch_loss)\n",
        "    val_accuracy.append(val_epoch_accuracy)\n",
        "   \n",
        "    early_stopping(val_epoch_loss, model)\n",
        "    if early_stopping.early_stop:\n",
        "      print(\"Early stopping in epoch\", epoch)\n",
        "      break\n",
        "  \n",
        "  return train_losses, train_accuracy, val_losses, val_accuracy \n",
        "\n",
        "def fitSoft(teacher_target, verbose, optimizer, scheduler, model, data_loader, phase='training'):\n",
        "  if phase == 'training':\n",
        "    model.train()\n",
        "  if phase == 'validation':\n",
        "    model.eval()\n",
        "  running_loss = 0.0\n",
        "  running_correct = 0\n",
        "  ini = 0\n",
        "  fim = 0\n",
        "  for batch in data_loader:\n",
        "    data , target = batch        \n",
        "    fim = fim + len(target)\n",
        "    if torch.cuda.is_available():\n",
        "      data,target = data.cuda(),target.cuda()\n",
        "    if phase == 'training':\n",
        "      optimizer.zero_grad()\n",
        "    output = model(data)\n",
        "    soft_target = teacher_target[ini:fim]\n",
        "    loss = loss_fn_kd(output, target, soft_target, 4)\n",
        "    running_loss += loss.item()\n",
        "    output = output.data.cpu().numpy()   \n",
        "    preds = np.argmax(output, axis=1)     \n",
        "    running_correct += getCorrects(preds, target)\n",
        "    if phase == 'training':\n",
        "      loss.backward()\n",
        "      optimizer.step()   \n",
        "    ini = ini + len(target) \n",
        "  loss = running_loss/len(data_loader.sampler)\n",
        "  accuracy = 100. * running_correct/len(data_loader.sampler)\n",
        "  if phase == 'validation':\n",
        "    scheduler.step(accuracy)\n",
        "  if verbose:\n",
        "    print(f'{phase} loss is {loss:{5}.{2}} and {phase} accuracy is {running_correct}/{len(data_loader.sampler)}{accuracy:{6}.{4}}%')\n",
        "  return loss,accuracy\n",
        "\n",
        "\n",
        "def loss_fn_kd(outputs, labels, teacher_outputs, temperature): \n",
        "  \"\"\" \n",
        "  Compute the knowledge-distillation (KD) loss given outputs, labels. \n",
        "  \"Hyperparameters\": temperature and alpha \n",
        "\n",
        "  NOTE: the KL Divergence for PyTorch comparing the softmaxs of teacher \n",
        "  and student expects the input tensor to be log probabilities! See Issue #2 \n",
        "  \"\"\" \n",
        "  alpha = 0.9\n",
        "  T = temperature \n",
        "  KD_loss = nn.KLDivLoss()(F.softmax(outputs/T, dim=1), \n",
        "                          F.softmax(teacher_outputs/T, dim=1))*T*T*alpha + F.cross_entropy(outputs, labels) * (1. - alpha) \n",
        "\n",
        "  return KD_loss \n",
        "\n",
        "def getCorrects(preds, targets):  \n",
        "  corretos = 0\n",
        "  for i in range(0, len(targets)):\n",
        "    if preds[i].item() == targets[i].item():\n",
        "      corretos = corretos +1\n",
        "\n",
        "  return corretos\n"
      ],
      "execution_count": 0,
      "outputs": []
    },
    {
      "cell_type": "markdown",
      "metadata": {
        "id": "66N7uuZfCR3G",
        "colab_type": "text"
      },
      "source": [
        "# Treinamento modelo RNN com KD"
      ]
    },
    {
      "cell_type": "code",
      "metadata": {
        "id": "1LaaTCIrCZxk",
        "colab_type": "code",
        "outputId": "d7893785-2eec-4ed7-dd0a-1aa53875f888",
        "colab": {
          "base_uri": "https://localhost:8080/",
          "height": 404
        }
      },
      "source": [
        "#Download e preparação dos dados\n",
        "train_loader, valid_loader, test_loader = prepararDados()\n",
        "\n",
        "#verificação CUDA\n",
        "print('CUDA', torch.cuda.is_available())\n",
        "\n",
        "#Cria o modelo \n",
        "model = ModeloRNN(187, 30, 32)\n",
        "\n",
        "if(torch.cuda.is_available):\n",
        "  model = model.cuda()\n",
        "\n",
        "infoModelo(model)"
      ],
      "execution_count": 0,
      "outputs": [
        {
          "output_type": "stream",
          "text": [
            "CUDA True\n"
          ],
          "name": "stdout"
        },
        {
          "output_type": "error",
          "ename": "RuntimeError",
          "evalue": "ignored",
          "traceback": [
            "\u001b[0;31m---------------------------------------------------------------------------\u001b[0m",
            "\u001b[0;31mRuntimeError\u001b[0m                              Traceback (most recent call last)",
            "\u001b[0;32m<ipython-input-27-f08fab04a986>\u001b[0m in \u001b[0;36m<module>\u001b[0;34m()\u001b[0m\n\u001b[1;32m      8\u001b[0m \u001b[0;34m\u001b[0m\u001b[0m\n\u001b[1;32m      9\u001b[0m \u001b[0;32mif\u001b[0m\u001b[0;34m(\u001b[0m\u001b[0mtorch\u001b[0m\u001b[0;34m.\u001b[0m\u001b[0mcuda\u001b[0m\u001b[0;34m.\u001b[0m\u001b[0mis_available\u001b[0m\u001b[0;34m)\u001b[0m\u001b[0;34m:\u001b[0m\u001b[0;34m\u001b[0m\u001b[0;34m\u001b[0m\u001b[0m\n\u001b[0;32m---> 10\u001b[0;31m   \u001b[0mmodel\u001b[0m \u001b[0;34m=\u001b[0m \u001b[0mmodel\u001b[0m\u001b[0;34m.\u001b[0m\u001b[0mcuda\u001b[0m\u001b[0;34m(\u001b[0m\u001b[0;34m)\u001b[0m\u001b[0;34m\u001b[0m\u001b[0;34m\u001b[0m\u001b[0m\n\u001b[0m\u001b[1;32m     11\u001b[0m \u001b[0;34m\u001b[0m\u001b[0m\n\u001b[1;32m     12\u001b[0m \u001b[0minfoModelo\u001b[0m\u001b[0;34m(\u001b[0m\u001b[0mmodel\u001b[0m\u001b[0;34m)\u001b[0m\u001b[0;34m\u001b[0m\u001b[0;34m\u001b[0m\u001b[0m\n",
            "\u001b[0;32m/usr/local/lib/python3.6/dist-packages/torch/nn/modules/module.py\u001b[0m in \u001b[0;36mcuda\u001b[0;34m(self, device)\u001b[0m\n\u001b[1;32m    302\u001b[0m             \u001b[0mModule\u001b[0m\u001b[0;34m:\u001b[0m \u001b[0mself\u001b[0m\u001b[0;34m\u001b[0m\u001b[0;34m\u001b[0m\u001b[0m\n\u001b[1;32m    303\u001b[0m         \"\"\"\n\u001b[0;32m--> 304\u001b[0;31m         \u001b[0;32mreturn\u001b[0m \u001b[0mself\u001b[0m\u001b[0;34m.\u001b[0m\u001b[0m_apply\u001b[0m\u001b[0;34m(\u001b[0m\u001b[0;32mlambda\u001b[0m \u001b[0mt\u001b[0m\u001b[0;34m:\u001b[0m \u001b[0mt\u001b[0m\u001b[0;34m.\u001b[0m\u001b[0mcuda\u001b[0m\u001b[0;34m(\u001b[0m\u001b[0mdevice\u001b[0m\u001b[0;34m)\u001b[0m\u001b[0;34m)\u001b[0m\u001b[0;34m\u001b[0m\u001b[0;34m\u001b[0m\u001b[0m\n\u001b[0m\u001b[1;32m    305\u001b[0m \u001b[0;34m\u001b[0m\u001b[0m\n\u001b[1;32m    306\u001b[0m     \u001b[0;32mdef\u001b[0m \u001b[0mcpu\u001b[0m\u001b[0;34m(\u001b[0m\u001b[0mself\u001b[0m\u001b[0;34m)\u001b[0m\u001b[0;34m:\u001b[0m\u001b[0;34m\u001b[0m\u001b[0;34m\u001b[0m\u001b[0m\n",
            "\u001b[0;32m/usr/local/lib/python3.6/dist-packages/torch/nn/modules/module.py\u001b[0m in \u001b[0;36m_apply\u001b[0;34m(self, fn)\u001b[0m\n\u001b[1;32m    199\u001b[0m     \u001b[0;32mdef\u001b[0m \u001b[0m_apply\u001b[0m\u001b[0;34m(\u001b[0m\u001b[0mself\u001b[0m\u001b[0;34m,\u001b[0m \u001b[0mfn\u001b[0m\u001b[0;34m)\u001b[0m\u001b[0;34m:\u001b[0m\u001b[0;34m\u001b[0m\u001b[0;34m\u001b[0m\u001b[0m\n\u001b[1;32m    200\u001b[0m         \u001b[0;32mfor\u001b[0m \u001b[0mmodule\u001b[0m \u001b[0;32min\u001b[0m \u001b[0mself\u001b[0m\u001b[0;34m.\u001b[0m\u001b[0mchildren\u001b[0m\u001b[0;34m(\u001b[0m\u001b[0;34m)\u001b[0m\u001b[0;34m:\u001b[0m\u001b[0;34m\u001b[0m\u001b[0;34m\u001b[0m\u001b[0m\n\u001b[0;32m--> 201\u001b[0;31m             \u001b[0mmodule\u001b[0m\u001b[0;34m.\u001b[0m\u001b[0m_apply\u001b[0m\u001b[0;34m(\u001b[0m\u001b[0mfn\u001b[0m\u001b[0;34m)\u001b[0m\u001b[0;34m\u001b[0m\u001b[0;34m\u001b[0m\u001b[0m\n\u001b[0m\u001b[1;32m    202\u001b[0m \u001b[0;34m\u001b[0m\u001b[0m\n\u001b[1;32m    203\u001b[0m         \u001b[0;32mdef\u001b[0m \u001b[0mcompute_should_use_set_data\u001b[0m\u001b[0;34m(\u001b[0m\u001b[0mtensor\u001b[0m\u001b[0;34m,\u001b[0m \u001b[0mtensor_applied\u001b[0m\u001b[0;34m)\u001b[0m\u001b[0;34m:\u001b[0m\u001b[0;34m\u001b[0m\u001b[0;34m\u001b[0m\u001b[0m\n",
            "\u001b[0;32m/usr/local/lib/python3.6/dist-packages/torch/nn/modules/rnn.py\u001b[0m in \u001b[0;36m_apply\u001b[0;34m(self, fn)\u001b[0m\n\u001b[1;32m    130\u001b[0m \u001b[0;34m\u001b[0m\u001b[0m\n\u001b[1;32m    131\u001b[0m     \u001b[0;32mdef\u001b[0m \u001b[0m_apply\u001b[0m\u001b[0;34m(\u001b[0m\u001b[0mself\u001b[0m\u001b[0;34m,\u001b[0m \u001b[0mfn\u001b[0m\u001b[0;34m)\u001b[0m\u001b[0;34m:\u001b[0m\u001b[0;34m\u001b[0m\u001b[0;34m\u001b[0m\u001b[0m\n\u001b[0;32m--> 132\u001b[0;31m         \u001b[0mret\u001b[0m \u001b[0;34m=\u001b[0m \u001b[0msuper\u001b[0m\u001b[0;34m(\u001b[0m\u001b[0mRNNBase\u001b[0m\u001b[0;34m,\u001b[0m \u001b[0mself\u001b[0m\u001b[0;34m)\u001b[0m\u001b[0;34m.\u001b[0m\u001b[0m_apply\u001b[0m\u001b[0;34m(\u001b[0m\u001b[0mfn\u001b[0m\u001b[0;34m)\u001b[0m\u001b[0;34m\u001b[0m\u001b[0;34m\u001b[0m\u001b[0m\n\u001b[0m\u001b[1;32m    133\u001b[0m \u001b[0;34m\u001b[0m\u001b[0m\n\u001b[1;32m    134\u001b[0m         \u001b[0;31m# Resets _flat_weights\u001b[0m\u001b[0;34m\u001b[0m\u001b[0;34m\u001b[0m\u001b[0;34m\u001b[0m\u001b[0m\n",
            "\u001b[0;32m/usr/local/lib/python3.6/dist-packages/torch/nn/modules/module.py\u001b[0m in \u001b[0;36m_apply\u001b[0;34m(self, fn)\u001b[0m\n\u001b[1;32m    221\u001b[0m                 \u001b[0;31m# `with torch.no_grad():`\u001b[0m\u001b[0;34m\u001b[0m\u001b[0;34m\u001b[0m\u001b[0;34m\u001b[0m\u001b[0m\n\u001b[1;32m    222\u001b[0m                 \u001b[0;32mwith\u001b[0m \u001b[0mtorch\u001b[0m\u001b[0;34m.\u001b[0m\u001b[0mno_grad\u001b[0m\u001b[0;34m(\u001b[0m\u001b[0;34m)\u001b[0m\u001b[0;34m:\u001b[0m\u001b[0;34m\u001b[0m\u001b[0;34m\u001b[0m\u001b[0m\n\u001b[0;32m--> 223\u001b[0;31m                     \u001b[0mparam_applied\u001b[0m \u001b[0;34m=\u001b[0m \u001b[0mfn\u001b[0m\u001b[0;34m(\u001b[0m\u001b[0mparam\u001b[0m\u001b[0;34m)\u001b[0m\u001b[0;34m\u001b[0m\u001b[0;34m\u001b[0m\u001b[0m\n\u001b[0m\u001b[1;32m    224\u001b[0m                 \u001b[0mshould_use_set_data\u001b[0m \u001b[0;34m=\u001b[0m \u001b[0mcompute_should_use_set_data\u001b[0m\u001b[0;34m(\u001b[0m\u001b[0mparam\u001b[0m\u001b[0;34m,\u001b[0m \u001b[0mparam_applied\u001b[0m\u001b[0;34m)\u001b[0m\u001b[0;34m\u001b[0m\u001b[0;34m\u001b[0m\u001b[0m\n\u001b[1;32m    225\u001b[0m                 \u001b[0;32mif\u001b[0m \u001b[0mshould_use_set_data\u001b[0m\u001b[0;34m:\u001b[0m\u001b[0;34m\u001b[0m\u001b[0;34m\u001b[0m\u001b[0m\n",
            "\u001b[0;32m/usr/local/lib/python3.6/dist-packages/torch/nn/modules/module.py\u001b[0m in \u001b[0;36m<lambda>\u001b[0;34m(t)\u001b[0m\n\u001b[1;32m    302\u001b[0m             \u001b[0mModule\u001b[0m\u001b[0;34m:\u001b[0m \u001b[0mself\u001b[0m\u001b[0;34m\u001b[0m\u001b[0;34m\u001b[0m\u001b[0m\n\u001b[1;32m    303\u001b[0m         \"\"\"\n\u001b[0;32m--> 304\u001b[0;31m         \u001b[0;32mreturn\u001b[0m \u001b[0mself\u001b[0m\u001b[0;34m.\u001b[0m\u001b[0m_apply\u001b[0m\u001b[0;34m(\u001b[0m\u001b[0;32mlambda\u001b[0m \u001b[0mt\u001b[0m\u001b[0;34m:\u001b[0m \u001b[0mt\u001b[0m\u001b[0;34m.\u001b[0m\u001b[0mcuda\u001b[0m\u001b[0;34m(\u001b[0m\u001b[0mdevice\u001b[0m\u001b[0;34m)\u001b[0m\u001b[0;34m)\u001b[0m\u001b[0;34m\u001b[0m\u001b[0;34m\u001b[0m\u001b[0m\n\u001b[0m\u001b[1;32m    305\u001b[0m \u001b[0;34m\u001b[0m\u001b[0m\n\u001b[1;32m    306\u001b[0m     \u001b[0;32mdef\u001b[0m \u001b[0mcpu\u001b[0m\u001b[0;34m(\u001b[0m\u001b[0mself\u001b[0m\u001b[0;34m)\u001b[0m\u001b[0;34m:\u001b[0m\u001b[0;34m\u001b[0m\u001b[0;34m\u001b[0m\u001b[0m\n",
            "\u001b[0;31mRuntimeError\u001b[0m: CUDA error: device-side assert triggered"
          ]
        }
      ]
    },
    {
      "cell_type": "code",
      "metadata": {
        "id": "Pgrpd9w8Clx9",
        "colab_type": "code",
        "outputId": "de75a28b-7bba-4432-b157-5d9391d02279",
        "colab": {
          "base_uri": "https://localhost:8080/",
          "height": 1000
        }
      },
      "source": [
        "train_losses, train_accuracy, val_losses, val_accuracy = treinamentoSoft(train_logit, valid_logits, train_loader, valid_loader, model, 100, True)"
      ],
      "execution_count": 0,
      "outputs": [
        {
          "output_type": "stream",
          "text": [
            "/usr/local/lib/python3.6/dist-packages/torch/nn/functional.py:1958: UserWarning: reduction: 'mean' divides the total loss by both the batch size and the support size.'batchmean' divides only by the batch size, and aligns with the KL div math definition.'mean' will be changed to behave the same as 'batchmean' in the next major release.\n",
            "  warnings.warn(\"reduction: 'mean' divides the total loss by both the batch size and the support size.\"\n"
          ],
          "name": "stderr"
        },
        {
          "output_type": "stream",
          "text": [
            "validation loss is -0.012 and validation accuracy is 1216/21889 5.555%\n",
            "best_acc: 5.555301749737311\n",
            "epoch 1/100\n",
            "==========\n",
            "training loss is -0.039 and training accuracy is 54787/65667 83.43%\n",
            "validation loss is -0.043 and validation accuracy is 19202/21889 87.72%\n",
            "Duração: 8.984133005142212\n",
            "Validation loss decreased (inf --> -0.043240).  Saving model ...\n",
            "epoch 2/100\n",
            "==========\n",
            "training loss is -0.043 and training accuracy is 57155/65667 87.04%\n",
            "validation loss is -0.046 and validation accuracy is 19562/21889 89.37%\n",
            "Duração: 9.642857789993286\n",
            "Validation loss decreased (-0.043240 --> -0.045639).  Saving model ...\n",
            "epoch 3/100\n",
            "==========\n",
            "training loss is -0.044 and training accuracy is 57730/65667 87.91%\n",
            "validation loss is -0.047 and validation accuracy is 19713/21889 90.06%\n",
            "Duração: 9.550994396209717\n",
            "Validation loss decreased (-0.045639 --> -0.046876).  Saving model ...\n",
            "epoch 4/100\n",
            "==========\n",
            "training loss is -0.046 and training accuracy is 58213/65667 88.65%\n",
            "validation loss is -0.048 and validation accuracy is 19883/21889 90.84%\n",
            "Duração: 9.468704223632812\n",
            "Validation loss decreased (-0.046876 --> -0.047999).  Saving model ...\n",
            "epoch 5/100\n",
            "==========\n",
            "training loss is -0.046 and training accuracy is 58583/65667 89.21%\n",
            "validation loss is -0.048 and validation accuracy is 19948/21889 91.13%\n",
            "Duração: 9.657137632369995\n",
            "Validation loss decreased (-0.047999 --> -0.048438).  Saving model ...\n",
            "epoch 6/100\n",
            "==========\n",
            "training loss is -0.047 and training accuracy is 58692/65667 89.38%\n",
            "validation loss is -0.049 and validation accuracy is 20061/21889 91.65%\n",
            "Duração: 9.427369356155396\n",
            "Validation loss decreased (-0.048438 --> -0.049043).  Saving model ...\n",
            "epoch 7/100\n",
            "==========\n",
            "training loss is -0.047 and training accuracy is 58662/65667 89.33%\n",
            "validation loss is -0.049 and validation accuracy is 20131/21889 91.97%\n",
            "Duração: 9.138173341751099\n",
            "Validation loss decreased (-0.049043 --> -0.049262).  Saving model ...\n",
            "epoch 8/100\n",
            "==========\n",
            "training loss is -0.047 and training accuracy is 58827/65667 89.58%\n",
            "validation loss is -0.049 and validation accuracy is 20115/21889  91.9%\n",
            "Duração: 9.544993877410889\n",
            "Validation loss decreased (-0.049262 --> -0.049419).  Saving model ...\n",
            "epoch 9/100\n",
            "==========\n",
            "training loss is -0.047 and training accuracy is 58861/65667 89.64%\n",
            "validation loss is -0.05 and validation accuracy is 20227/21889 92.41%\n",
            "Duração: 9.282781600952148\n",
            "Validation loss decreased (-0.049419 --> -0.049674).  Saving model ...\n",
            "epoch 10/100\n",
            "==========\n",
            "training loss is -0.047 and training accuracy is 58897/65667 89.69%\n",
            "validation loss is -0.05 and validation accuracy is 20223/21889 92.39%\n",
            "Duração: 9.374268293380737\n",
            "Validation loss decreased (-0.049674 --> -0.049725).  Saving model ...\n",
            "epoch 11/100\n",
            "==========\n",
            "training loss is -0.047 and training accuracy is 58917/65667 89.72%\n",
            "validation loss is -0.05 and validation accuracy is 20212/21889 92.34%\n",
            "Duração: 9.249566793441772\n",
            "Validation loss decreased (-0.049725 --> -0.049785).  Saving model ...\n",
            "epoch 12/100\n",
            "==========\n",
            "training loss is -0.047 and training accuracy is 58984/65667 89.82%\n",
            "validation loss is -0.05 and validation accuracy is 20245/21889 92.49%\n",
            "Duração: 9.79889726638794\n",
            "Validation loss decreased (-0.049785 --> -0.049864).  Saving model ...\n",
            "epoch 13/100\n",
            "==========\n",
            "training loss is -0.048 and training accuracy is 59126/65667 90.04%\n",
            "validation loss is -0.05 and validation accuracy is 20256/21889 92.54%\n",
            "Duração: 9.552467107772827\n",
            "Validation loss decreased (-0.049864 --> -0.050029).  Saving model ...\n",
            "epoch 14/100\n",
            "==========\n",
            "training loss is -0.048 and training accuracy is 59032/65667  89.9%\n",
            "validation loss is -0.05 and validation accuracy is 20198/21889 92.27%\n",
            "Duração: 9.391542911529541\n",
            "EarlyStopping counter: 1 out of 100\n",
            "epoch 15/100\n",
            "==========\n",
            "training loss is -0.048 and training accuracy is 59126/65667 90.04%\n",
            "validation loss is -0.05 and validation accuracy is 20218/21889 92.37%\n",
            "Duração: 9.540204763412476\n",
            "EarlyStopping counter: 2 out of 100\n",
            "epoch 16/100\n",
            "==========\n",
            "training loss is -0.048 and training accuracy is 59167/65667  90.1%\n",
            "validation loss is -0.05 and validation accuracy is 20240/21889 92.47%\n",
            "Duração: 9.241732835769653\n",
            "Validation loss decreased (-0.050029 --> -0.050100).  Saving model ...\n",
            "epoch 17/100\n",
            "==========\n",
            "training loss is -0.048 and training accuracy is 59131/65667 90.05%\n",
            "validation loss is -0.05 and validation accuracy is 20269/21889  92.6%\n",
            "Duração: 9.43701457977295\n",
            "EarlyStopping counter: 1 out of 100\n",
            "epoch 18/100\n",
            "==========\n",
            "training loss is -0.048 and training accuracy is 59151/65667 90.08%\n",
            "validation loss is -0.05 and validation accuracy is 20230/21889 92.42%\n",
            "Duração: 9.633183240890503\n",
            "EarlyStopping counter: 2 out of 100\n",
            "epoch 19/100\n",
            "==========\n",
            "training loss is -0.048 and training accuracy is 59176/65667 90.12%\n",
            "validation loss is -0.05 and validation accuracy is 20264/21889 92.58%\n",
            "Duração: 9.671441555023193\n",
            "Validation loss decreased (-0.050100 --> -0.050339).  Saving model ...\n",
            "epoch 20/100\n",
            "==========\n",
            "training loss is -0.048 and training accuracy is 59165/65667  90.1%\n",
            "validation loss is -0.05 and validation accuracy is 20269/21889  92.6%\n",
            "Duração: 9.35862421989441\n",
            "EarlyStopping counter: 1 out of 100\n",
            "epoch 21/100\n",
            "==========\n",
            "training loss is -0.048 and training accuracy is 59289/65667 90.29%\n",
            "validation loss is -0.05 and validation accuracy is 20219/21889 92.37%\n",
            "Duração: 9.411431789398193\n",
            "EarlyStopping counter: 2 out of 100\n",
            "epoch 22/100\n",
            "==========\n",
            "training loss is -0.048 and training accuracy is 59269/65667 90.26%\n",
            "validation loss is -0.051 and validation accuracy is 20353/21889 92.98%\n",
            "Duração: 9.56242823600769\n",
            "Validation loss decreased (-0.050339 --> -0.050540).  Saving model ...\n",
            "epoch 23/100\n",
            "==========\n",
            "training loss is -0.048 and training accuracy is 59344/65667 90.37%\n",
            "validation loss is -0.051 and validation accuracy is 20345/21889 92.95%\n",
            "Duração: 9.221948146820068\n",
            "Validation loss decreased (-0.050540 --> -0.050639).  Saving model ...\n",
            "epoch 24/100\n",
            "==========\n",
            "training loss is -0.048 and training accuracy is 59340/65667 90.37%\n",
            "validation loss is -0.051 and validation accuracy is 20301/21889 92.75%\n",
            "Duração: 9.577138662338257\n",
            "EarlyStopping counter: 1 out of 100\n",
            "epoch 25/100\n",
            "==========\n",
            "training loss is -0.048 and training accuracy is 59382/65667 90.43%\n",
            "validation loss is -0.051 and validation accuracy is 20349/21889 92.96%\n",
            "Duração: 9.607865333557129\n",
            "Validation loss decreased (-0.050639 --> -0.050753).  Saving model ...\n",
            "epoch 26/100\n",
            "==========\n",
            "training loss is -0.048 and training accuracy is 59404/65667 90.46%\n",
            "validation loss is -0.051 and validation accuracy is 20309/21889 92.78%\n",
            "Duração: 9.429342269897461\n",
            "EarlyStopping counter: 1 out of 100\n",
            "epoch 27/100\n",
            "==========\n",
            "training loss is -0.048 and training accuracy is 59375/65667 90.42%\n",
            "validation loss is -0.051 and validation accuracy is 20279/21889 92.64%\n",
            "Duração: 9.246975183486938\n",
            "EarlyStopping counter: 2 out of 100\n",
            "epoch 28/100\n",
            "==========\n",
            "training loss is -0.048 and training accuracy is 59535/65667 90.66%\n",
            "validation loss is -0.051 and validation accuracy is 20288/21889 92.69%\n",
            "Duração: 9.333720922470093\n",
            "EarlyStopping counter: 3 out of 100\n",
            "epoch 29/100\n",
            "==========\n",
            "training loss is -0.048 and training accuracy is 59398/65667 90.45%\n",
            "validation loss is -0.051 and validation accuracy is 20332/21889 92.89%\n",
            "Duração: 9.281723499298096\n",
            "Validation loss decreased (-0.050753 --> -0.050768).  Saving model ...\n",
            "epoch 30/100\n",
            "==========\n",
            "training loss is -0.048 and training accuracy is 59424/65667 90.49%\n",
            "validation loss is -0.051 and validation accuracy is 20278/21889 92.64%\n",
            "Duração: 9.313305139541626\n",
            "EarlyStopping counter: 1 out of 100\n",
            "epoch 31/100\n",
            "==========\n",
            "training loss is -0.048 and training accuracy is 59470/65667 90.56%\n",
            "validation loss is -0.051 and validation accuracy is 20323/21889 92.85%\n",
            "Duração: 9.49338150024414\n",
            "Validation loss decreased (-0.050768 --> -0.050824).  Saving model ...\n",
            "epoch 32/100\n",
            "==========\n",
            "training loss is -0.048 and training accuracy is 59502/65667 90.61%\n",
            "validation loss is -0.051 and validation accuracy is 20333/21889 92.89%\n",
            "Duração: 9.969767093658447\n",
            "EarlyStopping counter: 1 out of 100\n",
            "epoch 33/100\n",
            "==========\n",
            "training loss is -0.048 and training accuracy is 59492/65667  90.6%\n",
            "validation loss is -0.051 and validation accuracy is 20339/21889 92.92%\n",
            "Duração: 9.543235540390015\n",
            "EarlyStopping counter: 2 out of 100\n",
            "epoch 34/100\n",
            "==========\n",
            "training loss is -0.048 and training accuracy is 59457/65667 90.54%\n",
            "validation loss is -0.051 and validation accuracy is 20361/21889 93.02%\n",
            "Duração: 9.541836261749268\n",
            "Validation loss decreased (-0.050824 --> -0.050908).  Saving model ...\n",
            "epoch 35/100\n",
            "==========\n",
            "training loss is -0.048 and training accuracy is 59501/65667 90.61%\n",
            "validation loss is -0.051 and validation accuracy is 20297/21889 92.73%\n",
            "Duração: 9.515211343765259\n",
            "EarlyStopping counter: 1 out of 100\n",
            "epoch 36/100\n",
            "==========\n",
            "training loss is -0.048 and training accuracy is 59442/65667 90.52%\n",
            "validation loss is -0.051 and validation accuracy is 20325/21889 92.85%\n",
            "Duração: 9.67691969871521\n",
            "EarlyStopping counter: 2 out of 100\n",
            "epoch 37/100\n",
            "==========\n",
            "training loss is -0.048 and training accuracy is 59462/65667 90.55%\n",
            "validation loss is -0.051 and validation accuracy is 20344/21889 92.94%\n",
            "Duração: 9.79405164718628\n",
            "EarlyStopping counter: 3 out of 100\n",
            "epoch 38/100\n",
            "==========\n",
            "training loss is -0.049 and training accuracy is 59494/65667  90.6%\n",
            "validation loss is -0.051 and validation accuracy is 20347/21889 92.96%\n",
            "Duração: 9.426301002502441\n",
            "Validation loss decreased (-0.050908 --> -0.050950).  Saving model ...\n",
            "epoch 39/100\n",
            "==========\n",
            "training loss is -0.048 and training accuracy is 59512/65667 90.63%\n",
            "validation loss is -0.051 and validation accuracy is 20360/21889 93.01%\n",
            "Duração: 8.608469724655151\n",
            "EarlyStopping counter: 1 out of 100\n",
            "epoch 40/100\n",
            "==========\n",
            "training loss is -0.048 and training accuracy is 59519/65667 90.64%\n",
            "validation loss is -0.051 and validation accuracy is 20304/21889 92.76%\n",
            "Duração: 9.437882900238037\n",
            "EarlyStopping counter: 2 out of 100\n",
            "epoch 41/100\n",
            "==========\n",
            "training loss is -0.048 and training accuracy is 59470/65667 90.56%\n",
            "validation loss is -0.051 and validation accuracy is 20285/21889 92.67%\n",
            "Duração: 10.006043195724487\n",
            "EarlyStopping counter: 3 out of 100\n",
            "epoch 42/100\n",
            "==========\n",
            "training loss is -0.048 and training accuracy is 59482/65667 90.58%\n",
            "validation loss is -0.051 and validation accuracy is 20350/21889 92.97%\n",
            "Duração: 9.5759756565094\n",
            "Validation loss decreased (-0.050950 --> -0.050967).  Saving model ...\n",
            "epoch 43/100\n",
            "==========\n",
            "training loss is -0.049 and training accuracy is 59530/65667 90.65%\n",
            "validation loss is -0.051 and validation accuracy is 20361/21889 93.02%\n",
            "Duração: 9.664085149765015\n",
            "EarlyStopping counter: 1 out of 100\n",
            "epoch 44/100\n",
            "==========\n",
            "training loss is -0.049 and training accuracy is 59610/65667 90.78%\n",
            "validation loss is -0.051 and validation accuracy is 20371/21889 93.07%\n",
            "Duração: 9.900196552276611\n",
            "Validation loss decreased (-0.050967 --> -0.051003).  Saving model ...\n",
            "epoch 45/100\n",
            "==========\n",
            "training loss is -0.049 and training accuracy is 59590/65667 90.75%\n",
            "validation loss is -0.051 and validation accuracy is 20400/21889  93.2%\n",
            "Duração: 9.701736211776733\n",
            "Validation loss decreased (-0.051003 --> -0.051006).  Saving model ...\n",
            "epoch 46/100\n",
            "==========\n",
            "training loss is -0.049 and training accuracy is 59588/65667 90.74%\n",
            "validation loss is -0.051 and validation accuracy is 20305/21889 92.76%\n",
            "Duração: 9.860747337341309\n",
            "EarlyStopping counter: 1 out of 100\n",
            "epoch 47/100\n",
            "==========\n",
            "training loss is -0.049 and training accuracy is 59613/65667 90.78%\n",
            "validation loss is -0.051 and validation accuracy is 20378/21889  93.1%\n",
            "Duração: 9.439294576644897\n",
            "Validation loss decreased (-0.051006 --> -0.051071).  Saving model ...\n",
            "epoch 48/100\n",
            "==========\n",
            "training loss is -0.049 and training accuracy is 59638/65667 90.82%\n",
            "validation loss is -0.051 and validation accuracy is 20355/21889 92.99%\n",
            "Duração: 9.585574626922607\n",
            "EarlyStopping counter: 1 out of 100\n",
            "epoch 49/100\n",
            "==========\n",
            "training loss is -0.049 and training accuracy is 59654/65667 90.84%\n",
            "validation loss is -0.051 and validation accuracy is 20319/21889 92.83%\n",
            "Duração: 9.845307350158691\n",
            "EarlyStopping counter: 2 out of 100\n",
            "epoch 50/100\n",
            "==========\n",
            "training loss is -0.049 and training accuracy is 59632/65667 90.81%\n",
            "validation loss is -0.051 and validation accuracy is 20356/21889  93.0%\n",
            "Duração: 9.395711660385132\n",
            "EarlyStopping counter: 3 out of 100\n",
            "epoch 51/100\n",
            "==========\n",
            "training loss is -0.049 and training accuracy is 59755/65667  91.0%\n",
            "validation loss is -0.051 and validation accuracy is 20369/21889 93.06%\n",
            "Duração: 9.082062005996704\n",
            "EarlyStopping counter: 4 out of 100\n",
            "epoch 52/100\n",
            "==========\n",
            "training loss is -0.049 and training accuracy is 59758/65667  91.0%\n",
            "validation loss is -0.051 and validation accuracy is 20367/21889 93.05%\n",
            "Duração: 8.94819188117981\n",
            "EarlyStopping counter: 5 out of 100\n",
            "epoch 53/100\n",
            "==========\n",
            "training loss is -0.049 and training accuracy is 59606/65667 90.77%\n",
            "validation loss is -0.051 and validation accuracy is 20340/21889 92.92%\n",
            "Duração: 9.505700588226318\n",
            "EarlyStopping counter: 6 out of 100\n",
            "epoch 54/100\n",
            "==========\n",
            "training loss is -0.049 and training accuracy is 59764/65667 91.01%\n",
            "validation loss is -0.051 and validation accuracy is 20344/21889 92.94%\n",
            "Duração: 9.875263929367065\n",
            "EarlyStopping counter: 7 out of 100\n",
            "epoch 55/100\n",
            "==========\n",
            "training loss is -0.049 and training accuracy is 59743/65667 90.98%\n",
            "validation loss is -0.051 and validation accuracy is 20436/21889 93.36%\n",
            "Duração: 9.344021081924438\n",
            "Validation loss decreased (-0.051071 --> -0.051105).  Saving model ...\n",
            "epoch 56/100\n",
            "==========\n",
            "training loss is -0.049 and training accuracy is 59729/65667 90.96%\n",
            "validation loss is -0.051 and validation accuracy is 20414/21889 93.26%\n",
            "Duração: 9.688001155853271\n",
            "EarlyStopping counter: 1 out of 100\n",
            "epoch 57/100\n",
            "==========\n",
            "training loss is -0.049 and training accuracy is 59786/65667 91.04%\n",
            "validation loss is -0.051 and validation accuracy is 20454/21889 93.44%\n",
            "Duração: 9.148801326751709\n",
            "Validation loss decreased (-0.051105 --> -0.051137).  Saving model ...\n",
            "epoch 58/100\n",
            "==========\n",
            "training loss is -0.049 and training accuracy is 59721/65667 90.95%\n",
            "validation loss is -0.051 and validation accuracy is 20394/21889 93.17%\n",
            "Duração: 9.032935857772827\n",
            "Validation loss decreased (-0.051137 --> -0.051147).  Saving model ...\n",
            "epoch 59/100\n",
            "==========\n",
            "training loss is -0.049 and training accuracy is 59708/65667 90.93%\n",
            "validation loss is -0.051 and validation accuracy is 20303/21889 92.75%\n",
            "Duração: 9.966166257858276\n",
            "EarlyStopping counter: 1 out of 100\n",
            "epoch 60/100\n",
            "==========\n",
            "training loss is -0.049 and training accuracy is 59758/65667  91.0%\n",
            "validation loss is -0.051 and validation accuracy is 20336/21889 92.91%\n",
            "Duração: 9.574593544006348\n",
            "EarlyStopping counter: 2 out of 100\n",
            "epoch 61/100\n",
            "==========\n",
            "training loss is -0.049 and training accuracy is 59782/65667 91.04%\n",
            "validation loss is -0.051 and validation accuracy is 20392/21889 93.16%\n",
            "Duração: 9.657064199447632\n",
            "Validation loss decreased (-0.051147 --> -0.051181).  Saving model ...\n",
            "epoch 62/100\n",
            "==========\n",
            "training loss is -0.049 and training accuracy is 59781/65667 91.04%\n",
            "validation loss is -0.051 and validation accuracy is 20353/21889 92.98%\n",
            "Duração: 9.659109115600586\n",
            "EarlyStopping counter: 1 out of 100\n",
            "epoch 63/100\n",
            "==========\n",
            "training loss is -0.049 and training accuracy is 59765/65667 91.01%\n",
            "validation loss is -0.051 and validation accuracy is 20389/21889 93.15%\n",
            "Duração: 9.360412359237671\n",
            "EarlyStopping counter: 2 out of 100\n",
            "epoch 64/100\n",
            "==========\n",
            "training loss is -0.049 and training accuracy is 59781/65667 91.04%\n",
            "validation loss is -0.051 and validation accuracy is 20441/21889 93.38%\n",
            "Duração: 9.499561309814453\n",
            "Validation loss decreased (-0.051181 --> -0.051222).  Saving model ...\n",
            "epoch 65/100\n",
            "==========\n",
            "training loss is -0.049 and training accuracy is 59864/65667 91.16%\n",
            "validation loss is -0.051 and validation accuracy is 20370/21889 93.06%\n",
            "Duração: 10.517977237701416\n",
            "EarlyStopping counter: 1 out of 100\n",
            "epoch 66/100\n",
            "==========\n",
            "training loss is -0.049 and training accuracy is 59890/65667  91.2%\n",
            "validation loss is -0.051 and validation accuracy is 20394/21889 93.17%\n",
            "Duração: 10.157930374145508\n",
            "EarlyStopping counter: 2 out of 100\n",
            "epoch 67/100\n",
            "==========\n",
            "training loss is -0.049 and training accuracy is 59822/65667  91.1%\n",
            "validation loss is -0.051 and validation accuracy is 20391/21889 93.16%\n",
            "Duração: 9.513200998306274\n",
            "EarlyStopping counter: 3 out of 100\n",
            "epoch 68/100\n",
            "==========\n",
            "training loss is -0.049 and training accuracy is 59780/65667 91.04%\n",
            "validation loss is -0.051 and validation accuracy is 20351/21889 92.97%\n",
            "Duração: 9.863218784332275\n",
            "EarlyStopping counter: 4 out of 100\n",
            "epoch 69/100\n",
            "==========\n",
            "training loss is -0.049 and training accuracy is 59774/65667 91.03%\n",
            "validation loss is -0.051 and validation accuracy is 20372/21889 93.07%\n",
            "Duração: 9.395448684692383\n",
            "EarlyStopping counter: 5 out of 100\n",
            "epoch 70/100\n",
            "==========\n",
            "training loss is -0.049 and training accuracy is 59804/65667 91.07%\n",
            "validation loss is -0.051 and validation accuracy is 20396/21889 93.18%\n",
            "Duração: 9.296542882919312\n",
            "Validation loss decreased (-0.051222 --> -0.051253).  Saving model ...\n",
            "epoch 71/100\n",
            "==========\n",
            "training loss is -0.049 and training accuracy is 59757/65667  91.0%\n",
            "validation loss is -0.051 and validation accuracy is 20377/21889 93.09%\n",
            "Duração: 9.281215190887451\n",
            "EarlyStopping counter: 1 out of 100\n",
            "epoch 72/100\n",
            "==========\n",
            "training loss is -0.049 and training accuracy is 59772/65667 91.02%\n",
            "validation loss is -0.051 and validation accuracy is 20423/21889  93.3%\n",
            "Duração: 9.212494850158691\n",
            "EarlyStopping counter: 2 out of 100\n",
            "epoch 73/100\n",
            "==========\n",
            "training loss is -0.049 and training accuracy is 59763/65667 91.01%\n",
            "validation loss is -0.051 and validation accuracy is 20438/21889 93.37%\n",
            "Duração: 9.15714406967163\n",
            "EarlyStopping counter: 3 out of 100\n",
            "epoch 74/100\n",
            "==========\n",
            "training loss is -0.049 and training accuracy is 59823/65667  91.1%\n",
            "validation loss is -0.051 and validation accuracy is 20478/21889 93.55%\n",
            "Duração: 9.454184293746948\n",
            "EarlyStopping counter: 4 out of 100\n",
            "epoch 75/100\n",
            "==========\n",
            "training loss is -0.049 and training accuracy is 59731/65667 90.96%\n",
            "validation loss is -0.051 and validation accuracy is 20360/21889 93.01%\n",
            "Duração: 9.747319459915161\n",
            "EarlyStopping counter: 5 out of 100\n",
            "epoch 76/100\n",
            "==========\n",
            "training loss is -0.049 and training accuracy is 59858/65667 91.15%\n",
            "validation loss is -0.051 and validation accuracy is 20486/21889 93.59%\n",
            "Duração: 9.513556003570557\n",
            "EarlyStopping counter: 6 out of 100\n",
            "epoch 77/100\n",
            "==========\n",
            "training loss is -0.049 and training accuracy is 59887/65667  91.2%\n",
            "validation loss is -0.051 and validation accuracy is 20474/21889 93.54%\n",
            "Duração: 9.187041282653809\n",
            "EarlyStopping counter: 7 out of 100\n",
            "epoch 78/100\n",
            "==========\n",
            "training loss is -0.049 and training accuracy is 59858/65667 91.15%\n",
            "validation loss is -0.051 and validation accuracy is 20362/21889 93.02%\n",
            "Duração: 9.102402925491333\n",
            "EarlyStopping counter: 8 out of 100\n",
            "epoch 79/100\n",
            "==========\n",
            "training loss is -0.049 and training accuracy is 59927/65667 91.26%\n",
            "validation loss is -0.051 and validation accuracy is 20431/21889 93.34%\n",
            "Duração: 8.761910438537598\n",
            "EarlyStopping counter: 9 out of 100\n",
            "epoch 80/100\n",
            "==========\n",
            "training loss is -0.049 and training accuracy is 59838/65667 91.12%\n",
            "validation loss is -0.051 and validation accuracy is 20473/21889 93.53%\n",
            "Duração: 8.79988145828247\n",
            "Validation loss decreased (-0.051253 --> -0.051328).  Saving model ...\n",
            "epoch 81/100\n",
            "==========\n",
            "training loss is -0.049 and training accuracy is 59863/65667 91.16%\n",
            "validation loss is -0.051 and validation accuracy is 20404/21889 93.22%\n",
            "Duração: 9.089128971099854\n",
            "EarlyStopping counter: 1 out of 100\n",
            "epoch 82/100\n",
            "==========\n",
            "training loss is -0.049 and training accuracy is 59847/65667 91.14%\n",
            "validation loss is -0.051 and validation accuracy is 20353/21889 92.98%\n",
            "Duração: 8.917138576507568\n",
            "EarlyStopping counter: 2 out of 100\n",
            "epoch 83/100\n",
            "==========\n",
            "training loss is -0.049 and training accuracy is 59777/65667 91.03%\n",
            "validation loss is -0.051 and validation accuracy is 20474/21889 93.54%\n",
            "Duração: 9.172894954681396\n",
            "EarlyStopping counter: 3 out of 100\n",
            "epoch 84/100\n",
            "==========\n",
            "training loss is -0.049 and training accuracy is 59781/65667 91.04%\n",
            "validation loss is -0.051 and validation accuracy is 20399/21889 93.19%\n",
            "Duração: 9.812011003494263\n",
            "EarlyStopping counter: 4 out of 100\n",
            "epoch 85/100\n",
            "==========\n",
            "training loss is -0.049 and training accuracy is 59745/65667 90.98%\n",
            "validation loss is -0.051 and validation accuracy is 20435/21889 93.36%\n",
            "Duração: 9.575986385345459\n",
            "EarlyStopping counter: 5 out of 100\n",
            "epoch 86/100\n",
            "==========\n",
            "training loss is -0.049 and training accuracy is 59896/65667 91.21%\n",
            "validation loss is -0.051 and validation accuracy is 20531/21889  93.8%\n",
            "Duração: 9.2997465133667\n",
            "Validation loss decreased (-0.051328 --> -0.051369).  Saving model ...\n",
            "epoch 87/100\n",
            "==========\n",
            "training loss is -0.049 and training accuracy is 59825/65667  91.1%\n",
            "validation loss is -0.051 and validation accuracy is 20446/21889 93.41%\n",
            "Duração: 9.737009286880493\n",
            "EarlyStopping counter: 1 out of 100\n",
            "epoch 88/100\n",
            "==========\n",
            "training loss is -0.049 and training accuracy is 59811/65667 91.08%\n",
            "validation loss is -0.051 and validation accuracy is 20286/21889 92.68%\n",
            "Duração: 9.752787351608276\n",
            "EarlyStopping counter: 2 out of 100\n",
            "epoch 89/100\n",
            "==========\n",
            "training loss is -0.049 and training accuracy is 59859/65667 91.16%\n",
            "validation loss is -0.051 and validation accuracy is 20305/21889 92.76%\n",
            "Duração: 9.387306451797485\n",
            "EarlyStopping counter: 3 out of 100\n",
            "epoch 90/100\n",
            "==========\n",
            "training loss is -0.049 and training accuracy is 59838/65667 91.12%\n",
            "validation loss is -0.051 and validation accuracy is 20359/21889 93.01%\n",
            "Duração: 9.41965126991272\n",
            "EarlyStopping counter: 4 out of 100\n",
            "epoch 91/100\n",
            "==========\n",
            "training loss is -0.049 and training accuracy is 59785/65667 91.04%\n",
            "validation loss is -0.051 and validation accuracy is 20467/21889  93.5%\n",
            "Duração: 9.622216701507568\n",
            "EarlyStopping counter: 5 out of 100\n",
            "epoch 92/100\n",
            "==========\n",
            "training loss is -0.049 and training accuracy is 59860/65667 91.16%\n",
            "validation loss is -0.051 and validation accuracy is 20392/21889 93.16%\n",
            "Duração: 9.447344541549683\n",
            "EarlyStopping counter: 6 out of 100\n",
            "epoch 93/100\n",
            "==========\n",
            "training loss is -0.049 and training accuracy is 59760/65667  91.0%\n",
            "validation loss is -0.051 and validation accuracy is 20359/21889 93.01%\n",
            "Duração: 9.426913261413574\n",
            "EarlyStopping counter: 7 out of 100\n",
            "epoch 94/100\n",
            "==========\n",
            "training loss is -0.049 and training accuracy is 59924/65667 91.25%\n",
            "validation loss is -0.051 and validation accuracy is 20294/21889 92.71%\n",
            "Duração: 9.591181993484497\n",
            "EarlyStopping counter: 8 out of 100\n",
            "epoch 95/100\n",
            "==========\n",
            "training loss is -0.049 and training accuracy is 59804/65667 91.07%\n",
            "validation loss is -0.051 and validation accuracy is 20379/21889  93.1%\n",
            "Duração: 9.442432403564453\n",
            "EarlyStopping counter: 9 out of 100\n",
            "epoch 96/100\n",
            "==========\n",
            "training loss is -0.049 and training accuracy is 59877/65667 91.18%\n",
            "validation loss is -0.051 and validation accuracy is 20450/21889 93.43%\n",
            "Duração: 9.278496026992798\n",
            "EarlyStopping counter: 10 out of 100\n",
            "epoch 97/100\n",
            "==========\n",
            "training loss is -0.049 and training accuracy is 59885/65667 91.19%\n",
            "validation loss is -0.051 and validation accuracy is 20462/21889 93.48%\n",
            "Duração: 9.570359706878662\n",
            "EarlyStopping counter: 11 out of 100\n",
            "epoch 98/100\n",
            "==========\n",
            "training loss is -0.049 and training accuracy is 59833/65667 91.12%\n",
            "validation loss is -0.051 and validation accuracy is 20417/21889 93.28%\n",
            "Duração: 9.361184358596802\n",
            "EarlyStopping counter: 12 out of 100\n",
            "epoch 99/100\n",
            "==========\n",
            "training loss is -0.049 and training accuracy is 59855/65667 91.15%\n",
            "validation loss is -0.051 and validation accuracy is 20328/21889 92.87%\n",
            "Duração: 9.340960502624512\n",
            "EarlyStopping counter: 13 out of 100\n",
            "epoch 100/100\n",
            "==========\n",
            "training loss is -0.049 and training accuracy is 59835/65667 91.12%\n",
            "validation loss is -0.051 and validation accuracy is 20471/21889 93.52%\n",
            "Duração: 9.58446741104126\n",
            "EarlyStopping counter: 14 out of 100\n"
          ],
          "name": "stdout"
        }
      ]
    },
    {
      "cell_type": "markdown",
      "metadata": {
        "id": "rxliIrCpQNCU",
        "colab_type": "text"
      },
      "source": [
        "# Teste RNN KD\n"
      ]
    },
    {
      "cell_type": "code",
      "metadata": {
        "colab_type": "code",
        "outputId": "cfdd2f9f-e32d-4c39-a661-ab591429c063",
        "id": "s_b2nzbaQQwC",
        "colab": {
          "base_uri": "https://localhost:8080/",
          "height": 52
        }
      },
      "source": [
        "modelBL = carregar_modeloRNN('bestLoss.model')\n",
        "train_out = testeDoModelo(modelBL, train_loader)\n"
      ],
      "execution_count": 0,
      "outputs": [
        {
          "output_type": "stream",
          "text": [
            "Test loss is 0.0088 and Test accuracy is 61621/65667 93.84%\n",
            "\n"
          ],
          "name": "stdout"
        }
      ]
    },
    {
      "cell_type": "code",
      "metadata": {
        "colab_type": "code",
        "outputId": "dde730e2-1cc3-4307-d7f5-1890b6330c06",
        "id": "ZJASlm9qQYNr",
        "colab": {
          "base_uri": "https://localhost:8080/",
          "height": 52
        }
      },
      "source": [
        "valid_out = testeDoModelo(modelBL, valid_loader)\n",
        "\n"
      ],
      "execution_count": 0,
      "outputs": [
        {
          "output_type": "stream",
          "text": [
            "Test loss is 0.0093 and Test accuracy is 20531/21889  93.8%\n",
            "\n"
          ],
          "name": "stdout"
        }
      ]
    },
    {
      "cell_type": "code",
      "metadata": {
        "id": "Q_EsAyk3QlSp",
        "colab_type": "code",
        "outputId": "aa427a6c-e820-4d8c-ff5d-6161d4aba9e2",
        "colab": {
          "base_uri": "https://localhost:8080/",
          "height": 52
        }
      },
      "source": [
        "test_out = testeDoModelo(modelBL, test_loader)\n"
      ],
      "execution_count": 0,
      "outputs": [
        {
          "output_type": "stream",
          "text": [
            "Test loss is 0.0098 and Test accuracy is 20490/21890  93.6%\n",
            "\n"
          ],
          "name": "stdout"
        }
      ]
    }
  ]
}